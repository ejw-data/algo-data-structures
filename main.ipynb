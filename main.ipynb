{
 "cells": [
  {
   "cell_type": "markdown",
   "metadata": {},
   "source": [
    "## Data Structure Notes"
   ]
  },
  {
   "cell_type": "code",
   "execution_count": 38,
   "metadata": {},
   "outputs": [
    {
     "name": "stdout",
     "output_type": "stream",
     "text": [
      "\n",
      " Numeric\n",
      "1 <class 'int'>\n",
      "1. <class 'float'>\n",
      "1.0 <class 'float'>\n",
      "3j <class 'complex'>\n",
      "\n",
      " Boolean\n",
      "bool(1) <class 'bool'>\n",
      "bool(0) <class 'bool'>\n",
      "False <class 'bool'>\n",
      "\n",
      " Sequence\n",
      "'1' <class 'str'>\n",
      "'a' <class 'str'>\n",
      "range(3) <class 'range'>\n",
      "[1,2,3] <class 'list'>\n",
      "(1,2,3) <class 'tuple'>\n",
      "\n",
      " Mapping\n",
      "{'a':1,'b':2,'c':3} <class 'dict'>\n",
      "\n",
      " Set\n",
      "{1,2,3} <class 'set'>\n",
      "frozenset((1,2,3)) <class 'frozenset'>\n"
     ]
    }
   ],
   "source": [
    "# Data types\n",
    "\n",
    "print(\"\\n Numeric\")\n",
    "print(\"1\", type(1))\n",
    "print(\"1.\", type(1.))\n",
    "print(\"1.0\", type(1.))\n",
    "print(\"3j\", type(3j))\n",
    "\n",
    "print(\"\\n Boolean\")\n",
    "print(\"bool(1)\", type(bool(1)))\n",
    "print(\"bool(0)\", type(bool(0)))\n",
    "print(\"False\", type(False))\n",
    "\n",
    "print(\"\\n Sequence\") \n",
    "print(\"'1'\", type('1'))\n",
    "print(\"'a'\", type('a'))\n",
    "print(\"range(3)\", type(range(3)))\n",
    "print(\"[1,2,3]\", type([1,2,3]))\n",
    "print(\"(1,2,3)\", type( (1,2,3)))\n",
    "\n",
    "print(\"\\n Mapping\")\n",
    "print(\"{'a':1,'b':2,'c':3}\" , type({'a':1,'b':2,'c':3}))\n",
    "\n",
    "print(\"\\n Set\")\n",
    "print(\"{1,2,3}\", type({1,2,3}))\n",
    "print(\"frozenset((1,2,3))\", type(frozenset((1,2,3))))\n"
   ]
  },
  {
   "cell_type": "markdown",
   "metadata": {},
   "source": [
    "#### Other details\n",
    "Immutable objects:  String, Integer, Float, Range, Tuple, Unicode\n",
    "Mutable objects:  List, Dictionary, Set, "
   ]
  },
  {
   "cell_type": "markdown",
   "metadata": {},
   "source": [
    "#### Membership\n",
    "* in\n",
    "* not in\n",
    "\n",
    "#### Identity\n",
    "* is\n",
    "* is not\n",
    "\n",
    "#### Logical Operators\n",
    "* AND\n",
    "* OR\n",
    "* NOT\n",
    "\n",
    "#### Comparison Operator\n",
    "* See list online - there are many\n",
    "\n"
   ]
  },
  {
   "cell_type": "markdown",
   "metadata": {},
   "source": [
    "#### Common Dictionary Methods\n",
    "* The dictionary data type is mutable and dynamic.  \n",
    "\n",
    "mydict.clear()\n",
    "mydict.get(<key>)\n",
    "mydict.items()\n",
    "mydict.keys()\n",
    "mydict.values()\n",
    "mydict.pop()\n",
    "mydict.popitem()\n",
    "mydict.update(<obj>)"
   ]
  },
  {
   "cell_type": "markdown",
   "metadata": {},
   "source": [
    "#### Common Sets Methods\n",
    "* A set is an unordered collection of hashable objects. It is iterable, mutable, and has unique elements. The order of the elements is also not defined. While the addition and removal of items are allowed, the items themselves within the set must be immutable and hashable. Sets support membership testing operators (in, not in), and operations such as intersection, union, difference, and symmetric difference. Sets cannot contain duplicate items.  \n",
    "\n",
    "set1.union(set2)  \n",
    "set1.intersection(set2)  \n",
    "set1.difference(set2)  \n",
    "set1.symmetric_difference(set2)\n",
    "set1.issubset(set2)\n",
    "\n",
    "\n",
    "**Note:** Immutable sets are known as frozensets.  Except for this one difference, they are the same.  \n",
    "\n",
    "Here is a good example that shows how sets can only hold immutable objects.  A set of sets would not work because the individual sets are mutable, but a set of frozensets would work due to the frozensets immutabilty property.  \n"
   ]
  },
  {
   "cell_type": "code",
   "execution_count": 39,
   "metadata": {},
   "outputs": [
    {
     "ename": "TypeError",
     "evalue": "unhashable type: 'set'",
     "output_type": "error",
     "traceback": [
      "\u001b[1;31m---------------------------------------------------------------------------\u001b[0m",
      "\u001b[1;31mTypeError\u001b[0m                                 Traceback (most recent call last)",
      "Cell \u001b[1;32mIn[39], line 5\u001b[0m\n\u001b[0;32m      3\u001b[0m a21 \u001b[38;5;241m=\u001b[39m \u001b[38;5;28mset\u001b[39m([\u001b[38;5;124m'\u001b[39m\u001b[38;5;124mstructure\u001b[39m\u001b[38;5;124m'\u001b[39m])\n\u001b[0;32m      4\u001b[0m a31 \u001b[38;5;241m=\u001b[39m \u001b[38;5;28mset\u001b[39m([\u001b[38;5;124m'\u001b[39m\u001b[38;5;124mpython\u001b[39m\u001b[38;5;124m'\u001b[39m])\n\u001b[1;32m----> 5\u001b[0m x1 \u001b[38;5;241m=\u001b[39m {a11, a21, a31}\n",
      "\u001b[1;31mTypeError\u001b[0m: unhashable type: 'set'"
     ]
    }
   ],
   "source": [
    "# Using just a set\n",
    "a11 = set(['data'])\n",
    "a21 = set(['structure'])\n",
    "a31 = set(['python'])\n",
    "x1 = {a11, a21, a31}\n"
   ]
  },
  {
   "cell_type": "code",
   "execution_count": 40,
   "metadata": {},
   "outputs": [
    {
     "name": "stdout",
     "output_type": "stream",
     "text": [
      "{frozenset({'python'}), frozenset({'data'}), frozenset({'structure'})}\n"
     ]
    }
   ],
   "source": [
    "# Using a frozenset\n",
    "a1 = frozenset(['data'])\n",
    "a2 = frozenset(['structure'])\n",
    "a3 = frozenset(['python'])\n",
    "x = {a1, a2, a3}\n",
    "print(x)\n"
   ]
  },
  {
   "cell_type": "markdown",
   "metadata": {},
   "source": [
    "#### Collections\n",
    "The collections module provides different types of containers, which are objects that are used to store different objects and provide a way to access them.  \n",
    "\n",
    "Access this module via `from collections import _____`  \n",
    "\n",
    "Types:  \n",
    "namedTuple  \n",
    "deque  \n",
    "defaultdict  \n",
    "ChainMap  \n",
    "Counter  \n",
    "UserDict, UserList, UserString  "
   ]
  },
  {
   "cell_type": "markdown",
   "metadata": {},
   "source": [
    "### Algorithm Development"
   ]
  },
  {
   "cell_type": "markdown",
   "metadata": {},
   "source": [
    "Important Factors:\n",
    "- Time Complexity\n",
    "- Space Complexity (Memory Usage)\n",
    "- Asymptotically Efficiency (Rate of Growth)\n",
    "- Amortized Analysis\n",
    "\n",
    "Types of Notation:\n",
    "- $theta - worst-case running time complexity with a tight bound.\n",
    "- O - worst-case running time complexity with an upper bound\n",
    "- $omega - lower bound of an algorithm’s running time  \n",
    "\n",
    "Use Big O Notations:\n",
    "- 0(1) : Constant\n",
    "- O(logn)  :  Logarithmic\n",
    "- O(n)   :  Linear\n",
    "- (nlogn)   :  Linear-logarithmic\n",
    "- O(n^2)   :  Quadriatic\n",
    "- O(n^3)   :  Cubic\n",
    "- O(2n)    :  Exponential\n",
    "\n",
    "Total Time Complexity\n",
    "- Simplified notation\n"
   ]
  },
  {
   "cell_type": "markdown",
   "metadata": {},
   "source": [
    "### Algorithms  \n",
    "- Brute-force - try all possible solutions"
   ]
  },
  {
   "cell_type": "markdown",
   "metadata": {},
   "source": [
    "#### Recursion\n",
    "- Search for condition to be true then stops but for each loop it modifies the previous result and calls itself\n"
   ]
  },
  {
   "cell_type": "code",
   "execution_count": 39,
   "metadata": {},
   "outputs": [
    {
     "name": "stdout",
     "output_type": "stream",
     "text": [
      "24\n"
     ]
    }
   ],
   "source": [
    "# Not Recursive - Factorial\n",
    "\n",
    "def fact(n, tot=1):\n",
    "    if n == 0:\n",
    "        return tot\n",
    "    else:\n",
    "        tot *= n\n",
    "        return fact(n-1, tot)\n",
    "    \n",
    "print(fact(4))"
   ]
  },
  {
   "cell_type": "code",
   "execution_count": 40,
   "metadata": {},
   "outputs": [
    {
     "name": "stdout",
     "output_type": "stream",
     "text": [
      "24\n"
     ]
    }
   ],
   "source": [
    "# Recursive - Factorial\n",
    "\n",
    "def fact(n):\n",
    "    if n == 0:\n",
    "        return 1\n",
    "    else:\n",
    "        return n*fact(n-1)\n",
    "    \n",
    "print(fact(4))"
   ]
  },
  {
   "cell_type": "markdown",
   "metadata": {},
   "source": [
    "#### Divide and conquer"
   ]
  },
  {
   "cell_type": "code",
   "execution_count": 38,
   "metadata": {},
   "outputs": [],
   "source": [
    "# - binary search - 0(logn)\n",
    "\n",
    "def binary_search(arr, start, end, key):\n",
    "    loop = 0\n",
    "    while start <= end: \n",
    "        loop += 1\n",
    "        mid = start + int((end - start)/2)\n",
    "        if arr[mid] == key:  \n",
    "            return (mid, loop)  \n",
    "        elif arr[mid] < key:  \n",
    "            start = mid + 1  \n",
    "        else:  \n",
    "            end = mid - 1  \n",
    "    return (None,loop)  \n",
    "\n",
    "arr = [4, 6, 9, 13, 14, 18, 21, 24, 38] \n",
    "x = 6\n",
    "result = binary_search(arr, 0, len(arr)-1, x)  \n",
    "print(f'Binary Search: Index of {x}: {result[0]}.  Evaluated in {result[1]} loops')"
   ]
  },
  {
   "cell_type": "code",
   "execution_count": 38,
   "metadata": {},
   "outputs": [],
   "source": [
    "# - merge sort - O(nlogn)\n",
    "\n",
    "# merge\n",
    "def merge(first_sublist, second_sublist): \n",
    "    i = j = 0\n",
    "    merged_list = []\n",
    "    while i < len(first_sublist) and j < len(second_sublist):\n",
    "        if first_sublist[i] < second_sublist[j]:\n",
    "            merged_list.append(first_sublist[i]) \n",
    "            i += 1 \n",
    "        else:\n",
    "            merged_list.append(second_sublist[j]) \n",
    "            j += 1\n",
    "    while i < len(first_sublist): \n",
    "        merged_list.append(first_sublist[i]) \n",
    "        i += 1 \n",
    "    while j < len(second_sublist):\n",
    "        merged_list.append(second_sublist[j]) \n",
    "        j += 1\n",
    "    return merged_list \n",
    "\n",
    "# merge sort\n",
    "def merge_sort(unsorted_list): \n",
    "    \n",
    "    # stop trigger\n",
    "    if len(unsorted_list) == 1: \n",
    "        return unsorted_list\n",
    "    \n",
    "    # split list\n",
    "    mid_point = int(len(unsorted_list)/2)\n",
    "    first_half = unsorted_list[:mid_point] \n",
    "    second_half = unsorted_list[mid_point:] \n",
    "    \n",
    "    # recursive function\n",
    "    half_a = merge_sort(first_half) \n",
    "    half_b = merge_sort(second_half) \n",
    "    \n",
    "    # takes smallest value (most to left)\n",
    "    return merge(half_a, half_b) \n",
    "\n",
    "print(\"Merge Sort of List: \", merge_sort([10,9,3,5,2,1]))"
   ]
  },
  {
   "cell_type": "markdown",
   "metadata": {},
   "source": [
    "#### Other Algorithms\n",
    "- quick sort\n",
    "- algo for fast multiplication\n",
    "- strassen's matrix multiplication\n",
    "- closes pair of points"
   ]
  },
  {
   "cell_type": "markdown",
   "metadata": {},
   "source": [
    "### Dynamic programming"
   ]
  },
  {
   "cell_type": "code",
   "execution_count": 42,
   "metadata": {},
   "outputs": [
    {
     "name": "stdout",
     "output_type": "stream",
     "text": [
      "1\n",
      "1\n",
      "2\n",
      "3\n",
      "5\n"
     ]
    }
   ],
   "source": [
    "# Fibonacci Sequence - Recursive\n",
    "def fib(n):   \n",
    "     if n <= 1:   \n",
    "        return 1   \n",
    "     else:  \n",
    "        return fib(n-1) + fib(n-2)  \n",
    "for i in range(5):\n",
    "    print(fib(i))"
   ]
  },
  {
   "cell_type": "code",
   "execution_count": 43,
   "metadata": {},
   "outputs": [
    {
     "name": "stdout",
     "output_type": "stream",
     "text": [
      "0\n",
      "1\n",
      "1\n",
      "2\n",
      "3\n",
      "5\n"
     ]
    }
   ],
   "source": [
    "# Fibonacci Sequence - Dynamic\n",
    "def dyna_fib(n):\n",
    "    if n == 0:\n",
    "        return 0\n",
    "    if n == 1:\n",
    "        return 1  \n",
    "    # stored calculation lookup\n",
    "    if lookup[n] is not None:\n",
    "        return lookup[n]\n",
    "  \n",
    "    lookup[n] = dyna_fib(n-1) + dyna_fib(n-2)\n",
    "    return lookup[n]\n",
    "lookup = [None]*(1000)\n",
    " \n",
    "for i in range(6): \n",
    "    print(dyna_fib(i))"
   ]
  },
  {
   "cell_type": "markdown",
   "metadata": {},
   "source": [
    "### Greedy algorithms"
   ]
  },
  {
   "cell_type": "markdown",
   "metadata": {},
   "source": [
    "#### Shortest distance"
   ]
  },
  {
   "cell_type": "code",
   "execution_count": 2,
   "metadata": {},
   "outputs": [
    {
     "name": "stdout",
     "output_type": "stream",
     "text": [
      "A - [0, None]\n",
      "B - [5, 'A']\n",
      "C - [7, 'B']\n",
      "D - [7, 'F']\n",
      "E - [2, 'A']\n",
      "F - [5, 'E']\n"
     ]
    }
   ],
   "source": [
    "# Dijstra's Algorithm -  O(|Edges| + |Vertices|log|Vertices|)\n",
    "def get_shortest_distance(table, vertex): \n",
    "    shortest_distance = table[vertex][DISTANCE] \n",
    "    return shortest_distance \n",
    "\n",
    "def set_shortest_distance(table, vertex, new_distance): \n",
    "    table[vertex][DISTANCE] = new_distance \n",
    "\n",
    "def set_previous_node(table, vertex, previous_node): \n",
    "    table[vertex][PREVIOUS_NODE] = previous_node \n",
    "    \n",
    "def get_distance(graph, first_vertex, second_vertex): \n",
    "    return graph[first_vertex][second_vertex] \n",
    "\n",
    "def get_next_node(table, visited_nodes): \n",
    "    unvisited_nodes = list(set(table.keys()).difference(set(visited_nodes))) \n",
    "    assumed_min = table[unvisited_nodes[0]][DISTANCE] \n",
    "    min_vertex = unvisited_nodes[0] \n",
    "    for node in unvisited_nodes: \n",
    "        if table[node][DISTANCE] < assumed_min: \n",
    "            assumed_min = table[node][DISTANCE] \n",
    "            min_vertex = node \n",
    "    return min_vertex \n",
    "\n",
    "\n",
    "def find_shortest_path(graph, table, origin): \n",
    "    visited_nodes = [] \n",
    "    current_node = origin \n",
    "    starting_node = origin \n",
    "    while True: \n",
    "        adjacent_nodes = graph[current_node] \n",
    "        if set(adjacent_nodes).issubset(set(visited_nodes)): \n",
    "            # Nothing here to do. All adjacent nodes have been visited. \n",
    "            pass \n",
    "        else: \n",
    "            unvisited_nodes = set(adjacent_nodes).difference(set(visited_nodes)) \n",
    "            for vertex in unvisited_nodes: \n",
    "                distance_from_starting_node = get_shortest_distance(table, vertex) \n",
    "                if distance_from_starting_node == INFINITY and current_node == starting_node: \n",
    "                    total_distance = get_distance(graph, vertex, \n",
    "                                                  current_node) \n",
    "                else: \n",
    "                    total_distance = get_shortest_distance (table, \n",
    "                    current_node) + get_distance(graph, current_node, \n",
    "                                                 vertex) \n",
    "                if total_distance < distance_from_starting_node: \n",
    "                    set_shortest_distance(table, vertex, \n",
    "                                          total_distance) \n",
    "                    set_previous_node(table, vertex, current_node) \n",
    "        visited_nodes.append(current_node)\n",
    "        #print(visited_nodes)\n",
    "        if len(visited_nodes) == len(table.keys()): \n",
    "            break \n",
    "        current_node = get_next_node(table,visited_nodes) \n",
    "    return (table)\n",
    "\n",
    "\n",
    "# ------------------------------------------\n",
    "\n",
    "graph = dict() \n",
    "graph['A'] = {'B': 5, 'D': 9, 'E': 2} \n",
    "graph['B'] = {'A': 5, 'C': 2} \n",
    "graph['C'] = {'B': 2, 'D': 3} \n",
    "graph['D'] = {'A': 9, 'F': 2, 'C': 3} \n",
    "graph['E'] = {'A': 2, 'F': 3} \n",
    "graph['F'] = {'E': 3, 'D': 2} \n",
    "\n",
    "\n",
    "# DISTANCE = 0 \n",
    "# PREVIOUS_NODE = 1 \n",
    "# INFINITY = float('inf')\n",
    "\n",
    "table = { \n",
    "    'A': [0, None], \n",
    "    'B': [float(\"inf\"), None], \n",
    "    'C': [float(\"inf\"), None], \n",
    "    'D': [float(\"inf\"), None], \n",
    "    'E': [float(\"inf\"), None], \n",
    "    'F': [float(\"inf\"), None], \n",
    "}\n",
    "\n",
    "shortest_distance_table = find_shortest_path(graph, table, 'A') \n",
    "for k in sorted(shortest_distance_table): \n",
    "     print(\"{} - {}\".format(k,shortest_distance_table[k])) "
   ]
  },
  {
   "cell_type": "markdown",
   "metadata": {},
   "source": [
    "#### Other Algorithms\n",
    "-  Kruskal’s minimum spanning tree\n",
    "-  Dijkstra’s shortest path problem\n",
    "-  The Knapsack problem\n",
    "-  Prim’s minimal spanning tree algorithm\n",
    "-  The traveling salesperson problem"
   ]
  },
  {
   "cell_type": "code",
   "execution_count": null,
   "metadata": {},
   "outputs": [],
   "source": []
  },
  {
   "cell_type": "code",
   "execution_count": null,
   "metadata": {},
   "outputs": [],
   "source": []
  }
 ],
 "metadata": {
  "kernelspec": {
   "display_name": "Python 3",
   "language": "python",
   "name": "python3"
  },
  "language_info": {
   "codemirror_mode": {
    "name": "ipython",
    "version": 3
   },
   "file_extension": ".py",
   "mimetype": "text/x-python",
   "name": "python",
   "nbconvert_exporter": "python",
   "pygments_lexer": "ipython3",
   "version": "3.10.9"
  }
 },
 "nbformat": 4,
 "nbformat_minor": 4
}
