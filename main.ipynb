{
 "cells": [
  {
   "cell_type": "markdown",
   "metadata": {},
   "source": [
    "## Data Structure Notes"
   ]
  },
  {
   "cell_type": "code",
   "execution_count": 57,
   "metadata": {},
   "outputs": [
    {
     "name": "stdout",
     "output_type": "stream",
     "text": [
      "\n",
      " Numeric\n",
      "1 <class 'int'>\n",
      "1. <class 'float'>\n",
      "1.0 <class 'float'>\n",
      "3j <class 'complex'>\n",
      "\n",
      " Boolean\n",
      "bool(1) <class 'bool'>\n",
      "bool(0) <class 'bool'>\n",
      "False <class 'bool'>\n",
      "\n",
      " Sequence\n",
      "'1' <class 'str'>\n",
      "'a' <class 'str'>\n",
      "range(3) <class 'range'>\n",
      "[1,2,3] <class 'list'>\n",
      "(1,2,3) <class 'tuple'>\n",
      "\n",
      " Mapping\n",
      "{'a':1,'b':2,'c':3} <class 'dict'>\n",
      "\n",
      " Set\n",
      "{1,2,3} <class 'set'>\n",
      "frozenset((1,2,3)) <class 'frozenset'>\n"
     ]
    }
   ],
   "source": [
    "# Data types\n",
    "\n",
    "print(\"\\n Numeric\")\n",
    "print(\"1\", type(1))\n",
    "print(\"1.\", type(1.))\n",
    "print(\"1.0\", type(1.))\n",
    "print(\"3j\", type(3j))\n",
    "\n",
    "print(\"\\n Boolean\")\n",
    "print(\"bool(1)\", type(bool(1)))\n",
    "print(\"bool(0)\", type(bool(0)))\n",
    "print(\"False\", type(False))\n",
    "\n",
    "print(\"\\n Sequence\") \n",
    "print(\"'1'\", type('1'))\n",
    "print(\"'a'\", type('a'))\n",
    "print(\"range(3)\", type(range(3)))\n",
    "print(\"[1,2,3]\", type([1,2,3]))\n",
    "print(\"(1,2,3)\", type( (1,2,3)))\n",
    "\n",
    "print(\"\\n Mapping\")\n",
    "print(\"{'a':1,'b':2,'c':3}\" , type({'a':1,'b':2,'c':3}))\n",
    "\n",
    "print(\"\\n Set\")\n",
    "print(\"{1,2,3}\", type({1,2,3}))\n",
    "print(\"frozenset((1,2,3))\", type(frozenset((1,2,3))))\n"
   ]
  },
  {
   "cell_type": "markdown",
   "metadata": {},
   "source": [
    "#### Other details\n",
    "Immutable objects:  String, Integer, Float, Range, Tuple, Unicode\n",
    "Mutable objects:  List, Dictionary, Set, "
   ]
  },
  {
   "cell_type": "markdown",
   "metadata": {},
   "source": [
    "#### Membership\n",
    "* in\n",
    "* not in\n",
    "\n",
    "#### Identity\n",
    "* is\n",
    "* is not\n",
    "\n",
    "#### Logical Operators\n",
    "* AND\n",
    "* OR\n",
    "* NOT\n",
    "\n",
    "#### Comparison Operator\n",
    "* See list online - there are many\n",
    "\n"
   ]
  },
  {
   "cell_type": "markdown",
   "metadata": {},
   "source": [
    "#### Common Dictionary Methods\n",
    "* The dictionary data type is mutable and dynamic.  \n",
    "\n",
    "mydict.clear()\n",
    "mydict.get(<key>)\n",
    "mydict.items()\n",
    "mydict.keys()\n",
    "mydict.values()\n",
    "mydict.pop()\n",
    "mydict.popitem()\n",
    "mydict.update(<obj>)"
   ]
  },
  {
   "cell_type": "markdown",
   "metadata": {},
   "source": [
    "#### Common Sets Methods\n",
    "* A set is an unordered collection of hashable objects. It is iterable, mutable, and has unique elements. The order of the elements is also not defined. While the addition and removal of items are allowed, the items themselves within the set must be immutable and hashable. Sets support membership testing operators (in, not in), and operations such as intersection, union, difference, and symmetric difference. Sets cannot contain duplicate items.  \n",
    "\n",
    "set1.union(set2)  \n",
    "set1.intersection(set2)  \n",
    "set1.difference(set2)  \n",
    "set1.symmetric_difference(set2)\n",
    "set1.issubset(set2)\n",
    "\n",
    "\n",
    "**Note:** Immutable sets are known as frozensets.  Except for this one difference, they are the same.  \n",
    "\n",
    "Here is a good example that shows how sets can only hold immutable objects.  A set of sets would not work because the individual sets are mutable, but a set of frozensets would work due to the frozensets immutabilty property.  \n"
   ]
  },
  {
   "cell_type": "code",
   "execution_count": 58,
   "metadata": {},
   "outputs": [
    {
     "ename": "TypeError",
     "evalue": "unhashable type: 'set'",
     "output_type": "error",
     "traceback": [
      "\u001b[1;31m---------------------------------------------------------------------------\u001b[0m",
      "\u001b[1;31mTypeError\u001b[0m                                 Traceback (most recent call last)",
      "Cell \u001b[1;32mIn[58], line 5\u001b[0m\n\u001b[0;32m      3\u001b[0m a21 \u001b[38;5;241m=\u001b[39m \u001b[38;5;28mset\u001b[39m([\u001b[38;5;124m'\u001b[39m\u001b[38;5;124mstructure\u001b[39m\u001b[38;5;124m'\u001b[39m])\n\u001b[0;32m      4\u001b[0m a31 \u001b[38;5;241m=\u001b[39m \u001b[38;5;28mset\u001b[39m([\u001b[38;5;124m'\u001b[39m\u001b[38;5;124mpython\u001b[39m\u001b[38;5;124m'\u001b[39m])\n\u001b[1;32m----> 5\u001b[0m x1 \u001b[38;5;241m=\u001b[39m {a11, a21, a31}\n",
      "\u001b[1;31mTypeError\u001b[0m: unhashable type: 'set'"
     ]
    }
   ],
   "source": [
    "# Using just a set\n",
    "a11 = set(['data'])\n",
    "a21 = set(['structure'])\n",
    "a31 = set(['python'])\n",
    "x1 = {a11, a21, a31}\n"
   ]
  },
  {
   "cell_type": "code",
   "execution_count": 59,
   "metadata": {},
   "outputs": [
    {
     "name": "stdout",
     "output_type": "stream",
     "text": [
      "{frozenset({'python'}), frozenset({'data'}), frozenset({'structure'})}\n"
     ]
    }
   ],
   "source": [
    "# Using a frozenset\n",
    "a1 = frozenset(['data'])\n",
    "a2 = frozenset(['structure'])\n",
    "a3 = frozenset(['python'])\n",
    "x = {a1, a2, a3}\n",
    "print(x)\n"
   ]
  },
  {
   "cell_type": "markdown",
   "metadata": {},
   "source": [
    "#### Collections\n",
    "The collections module provides different types of containers, which are objects that are used to store different objects and provide a way to access them.  \n",
    "\n",
    "Access this module via `from collections import _____`  \n",
    "\n",
    "Types:  \n",
    "namedTuple  \n",
    "deque  \n",
    "defaultdict  \n",
    "ChainMap  \n",
    "Counter  \n",
    "UserDict, UserList, UserString  "
   ]
  },
  {
   "cell_type": "markdown",
   "metadata": {},
   "source": [
    "### Algorithm Development"
   ]
  },
  {
   "cell_type": "markdown",
   "metadata": {},
   "source": [
    "Important Factors:\n",
    "- Time Complexity\n",
    "- Space Complexity (Memory Usage)\n",
    "- Asymptotically Efficiency (Rate of Growth)\n",
    "- Amortized Analysis\n",
    "\n",
    "Types of Notation:\n",
    "- $theta - worst-case running time complexity with a tight bound.\n",
    "- O - worst-case running time complexity with an upper bound\n",
    "- $omega - lower bound of an algorithm’s running time  \n",
    "\n",
    "Use Big O Notations:\n",
    "- 0(1) : Constant\n",
    "- O(logn)  :  Logarithmic\n",
    "- O(n)   :  Linear\n",
    "- (nlogn)   :  Linear-logarithmic\n",
    "- O(n^2)   :  Quadriatic\n",
    "- O(n^3)   :  Cubic\n",
    "- O(2n)    :  Exponential\n",
    "\n",
    "Total Time Complexity\n",
    "- Simplified notation\n"
   ]
  },
  {
   "cell_type": "markdown",
   "metadata": {},
   "source": [
    "### Algorithms  \n",
    "- Brute-force - try all possible solutions"
   ]
  },
  {
   "cell_type": "markdown",
   "metadata": {},
   "source": [
    "#### Recursion\n",
    "- Search for condition to be true then stops but for each loop it modifies the previous result and calls itself\n"
   ]
  },
  {
   "cell_type": "code",
   "execution_count": 60,
   "metadata": {},
   "outputs": [
    {
     "name": "stdout",
     "output_type": "stream",
     "text": [
      "24\n"
     ]
    }
   ],
   "source": [
    "# Not Recursive - Factorial\n",
    "\n",
    "def fact(n, tot=1):\n",
    "    if n == 0:\n",
    "        return tot\n",
    "    else:\n",
    "        tot *= n\n",
    "        return fact(n-1, tot)\n",
    "    \n",
    "print(fact(4))"
   ]
  },
  {
   "cell_type": "code",
   "execution_count": 61,
   "metadata": {},
   "outputs": [
    {
     "name": "stdout",
     "output_type": "stream",
     "text": [
      "24\n"
     ]
    }
   ],
   "source": [
    "# Recursive - Factorial\n",
    "\n",
    "def fact(n):\n",
    "    if n == 0:\n",
    "        return 1\n",
    "    else:\n",
    "        return n*fact(n-1)\n",
    "    \n",
    "print(fact(4))"
   ]
  },
  {
   "cell_type": "markdown",
   "metadata": {},
   "source": [
    "#### Divide and conquer"
   ]
  },
  {
   "cell_type": "code",
   "execution_count": 62,
   "metadata": {},
   "outputs": [
    {
     "name": "stdout",
     "output_type": "stream",
     "text": [
      "Binary Search: Index of 6: 1.  Evaluated in 2 loops\n"
     ]
    }
   ],
   "source": [
    "# - binary search - 0(logn)\n",
    "\n",
    "def binary_search(arr, start, end, key):\n",
    "    loop = 0\n",
    "    while start <= end: \n",
    "        loop += 1\n",
    "        mid = start + int((end - start)/2)\n",
    "        if arr[mid] == key:  \n",
    "            return (mid, loop)  \n",
    "        elif arr[mid] < key:  \n",
    "            start = mid + 1  \n",
    "        else:  \n",
    "            end = mid - 1  \n",
    "    return (None,loop)  \n",
    "\n",
    "arr = [4, 6, 9, 13, 14, 18, 21, 24, 38] \n",
    "x = 6\n",
    "result = binary_search(arr, 0, len(arr)-1, x)  \n",
    "print(f'Binary Search: Index of {x}: {result[0]}.  Evaluated in {result[1]} loops')"
   ]
  },
  {
   "cell_type": "code",
   "execution_count": 63,
   "metadata": {},
   "outputs": [
    {
     "name": "stdout",
     "output_type": "stream",
     "text": [
      "Merge Sort of List:  [1, 2, 3, 5, 9, 10]\n"
     ]
    }
   ],
   "source": [
    "# - merge sort - O(nlogn)\n",
    "\n",
    "# merge\n",
    "def merge(first_sublist, second_sublist): \n",
    "    i = j = 0\n",
    "    merged_list = []\n",
    "    while i < len(first_sublist) and j < len(second_sublist):\n",
    "        if first_sublist[i] < second_sublist[j]:\n",
    "            merged_list.append(first_sublist[i]) \n",
    "            i += 1 \n",
    "        else:\n",
    "            merged_list.append(second_sublist[j]) \n",
    "            j += 1\n",
    "    while i < len(first_sublist): \n",
    "        merged_list.append(first_sublist[i]) \n",
    "        i += 1 \n",
    "    while j < len(second_sublist):\n",
    "        merged_list.append(second_sublist[j]) \n",
    "        j += 1\n",
    "    return merged_list \n",
    "\n",
    "# merge sort\n",
    "def merge_sort(unsorted_list): \n",
    "    \n",
    "    # stop trigger\n",
    "    if len(unsorted_list) == 1: \n",
    "        return unsorted_list\n",
    "    \n",
    "    # split list\n",
    "    mid_point = int(len(unsorted_list)/2)\n",
    "    first_half = unsorted_list[:mid_point] \n",
    "    second_half = unsorted_list[mid_point:] \n",
    "    \n",
    "    # recursive function\n",
    "    half_a = merge_sort(first_half) \n",
    "    half_b = merge_sort(second_half) \n",
    "    \n",
    "    # takes smallest value (most to left)\n",
    "    return merge(half_a, half_b) \n",
    "\n",
    "print(\"Merge Sort of List: \", merge_sort([10,9,3,5,2,1]))"
   ]
  },
  {
   "cell_type": "markdown",
   "metadata": {},
   "source": [
    "#### Other Algorithms\n",
    "- quick sort\n",
    "- algo for fast multiplication\n",
    "- strassen's matrix multiplication\n",
    "- closes pair of points"
   ]
  },
  {
   "cell_type": "markdown",
   "metadata": {},
   "source": [
    "### Dynamic programming"
   ]
  },
  {
   "cell_type": "code",
   "execution_count": 64,
   "metadata": {},
   "outputs": [
    {
     "name": "stdout",
     "output_type": "stream",
     "text": [
      "1\n",
      "1\n",
      "2\n",
      "3\n",
      "5\n"
     ]
    }
   ],
   "source": [
    "# Fibonacci Sequence - Recursive\n",
    "def fib(n):   \n",
    "     if n <= 1:   \n",
    "        return 1   \n",
    "     else:  \n",
    "        return fib(n-1) + fib(n-2)  \n",
    "for i in range(5):\n",
    "    print(fib(i))"
   ]
  },
  {
   "cell_type": "code",
   "execution_count": 65,
   "metadata": {},
   "outputs": [
    {
     "name": "stdout",
     "output_type": "stream",
     "text": [
      "0\n",
      "1\n",
      "1\n",
      "2\n",
      "3\n",
      "5\n"
     ]
    }
   ],
   "source": [
    "# Fibonacci Sequence - Dynamic\n",
    "def dyna_fib(n):\n",
    "    if n == 0:\n",
    "        return 0\n",
    "    if n == 1:\n",
    "        return 1  \n",
    "    # stored calculation lookup\n",
    "    if lookup[n] is not None:\n",
    "        return lookup[n]\n",
    "  \n",
    "    lookup[n] = dyna_fib(n-1) + dyna_fib(n-2)\n",
    "    return lookup[n]\n",
    "lookup = [None]*(1000)\n",
    " \n",
    "for i in range(6): \n",
    "    print(dyna_fib(i))"
   ]
  },
  {
   "cell_type": "markdown",
   "metadata": {},
   "source": [
    "### Greedy algorithms"
   ]
  },
  {
   "cell_type": "markdown",
   "metadata": {},
   "source": [
    "#### Shortest distance"
   ]
  },
  {
   "cell_type": "code",
   "execution_count": 69,
   "metadata": {},
   "outputs": [
    {
     "name": "stdout",
     "output_type": "stream",
     "text": [
      "A - [0, None]\n",
      "B - [5, 'A']\n",
      "C - [7, 'B']\n",
      "D - [7, 'F']\n",
      "E - [2, 'A']\n",
      "F - [5, 'E']\n"
     ]
    }
   ],
   "source": [
    "# Dijstra's Algorithm -  O(|Edges| + |Vertices|log|Vertices|)\n",
    "def get_shortest_distance(table, vertex): \n",
    "    shortest_distance = table[vertex][DISTANCE] \n",
    "    return shortest_distance \n",
    "\n",
    "def set_shortest_distance(table, vertex, new_distance): \n",
    "    table[vertex][DISTANCE] = new_distance \n",
    "\n",
    "def set_previous_node(table, vertex, previous_node): \n",
    "    table[vertex][PREVIOUS_NODE] = previous_node \n",
    "    \n",
    "def get_distance(graph, first_vertex, second_vertex): \n",
    "    return graph[first_vertex][second_vertex] \n",
    "\n",
    "def get_next_node(table, visited_nodes): \n",
    "    unvisited_nodes = list(set(table.keys()).difference(set(visited_nodes))) \n",
    "    assumed_min = table[unvisited_nodes[0]][DISTANCE] \n",
    "    min_vertex = unvisited_nodes[0] \n",
    "    for node in unvisited_nodes: \n",
    "        if table[node][DISTANCE] < assumed_min: \n",
    "            assumed_min = table[node][DISTANCE] \n",
    "            min_vertex = node \n",
    "    return min_vertex \n",
    "\n",
    "\n",
    "def find_shortest_path(graph, table, origin): \n",
    "    visited_nodes = [] \n",
    "    current_node = origin \n",
    "    starting_node = origin \n",
    "    while True: \n",
    "        adjacent_nodes = graph[current_node] \n",
    "        if set(adjacent_nodes).issubset(set(visited_nodes)): \n",
    "            # Nothing here to do. All adjacent nodes have been visited. \n",
    "            pass \n",
    "        else: \n",
    "            unvisited_nodes = set(adjacent_nodes).difference(set(visited_nodes)) \n",
    "            for vertex in unvisited_nodes: \n",
    "                distance_from_starting_node = get_shortest_distance(table, vertex) \n",
    "                if distance_from_starting_node == INFINITY and current_node == starting_node: \n",
    "                    total_distance = get_distance(graph, vertex, \n",
    "                                                  current_node) \n",
    "                else: \n",
    "                    total_distance = get_shortest_distance (table, \n",
    "                    current_node) + get_distance(graph, current_node, \n",
    "                                                 vertex) \n",
    "                if total_distance < distance_from_starting_node: \n",
    "                    set_shortest_distance(table, vertex, \n",
    "                                          total_distance) \n",
    "                    set_previous_node(table, vertex, current_node) \n",
    "        visited_nodes.append(current_node)\n",
    "        #print(visited_nodes)\n",
    "        if len(visited_nodes) == len(table.keys()): \n",
    "            break \n",
    "        current_node = get_next_node(table,visited_nodes) \n",
    "    return (table)\n",
    "\n",
    "\n",
    "# ------------------------------------------\n",
    "\n",
    "graph = dict() \n",
    "graph['A'] = {'B': 5, 'D': 9, 'E': 2} \n",
    "graph['B'] = {'A': 5, 'C': 2} \n",
    "graph['C'] = {'B': 2, 'D': 3} \n",
    "graph['D'] = {'A': 9, 'F': 2, 'C': 3} \n",
    "graph['E'] = {'A': 2, 'F': 3} \n",
    "graph['F'] = {'E': 3, 'D': 2} \n",
    "\n",
    "\n",
    "DISTANCE = 0 \n",
    "PREVIOUS_NODE = 1 \n",
    "INFINITY = float('inf')\n",
    "\n",
    "table = { \n",
    "    'A': [0, None], \n",
    "    'B': [float(\"inf\"), None], \n",
    "    'C': [float(\"inf\"), None], \n",
    "    'D': [float(\"inf\"), None], \n",
    "    'E': [float(\"inf\"), None], \n",
    "    'F': [float(\"inf\"), None], \n",
    "}\n",
    "\n",
    "shortest_distance_table = find_shortest_path(graph, table, 'A') \n",
    "for k in sorted(shortest_distance_table): \n",
    "     print(\"{} - {}\".format(k,shortest_distance_table[k])) "
   ]
  },
  {
   "cell_type": "markdown",
   "metadata": {},
   "source": [
    "#### Other Algorithms\n",
    "-  Kruskal’s minimum spanning tree\n",
    "-  Dijkstra’s shortest path problem\n",
    "-  The Knapsack problem\n",
    "-  Prim’s minimal spanning tree algorithm\n",
    "-  The traveling salesperson problem"
   ]
  },
  {
   "cell_type": "markdown",
   "metadata": {},
   "source": [
    "### Linked Lists \n",
    "- also known as singly linked lists\n",
    "- good if lots of changes are needed to the list due to it uses pointers\n",
    "- each node holds a value and the next node reference unless it is the last item in the list and node.next will equal 'None'.\n",
    "- slower than arrays at reading the data but doesn't require contiguous memory allocation.  \n",
    "- There is also a doubly linked lists which has the next link and a previous link to nodes  \n",
    "- There is also a circular linked lists which means that the last node references another node; thus, creating a circular list\n",
    "\n"
   ]
  },
  {
   "cell_type": "markdown",
   "metadata": {},
   "source": [
    "### Stacks \n",
    "- data is stored sequentially like lists and arrays but is managed by how data is added and removed\n",
    "- a stack works off the last in, first out (LIFO) or first in, last out (FILO) principle\n",
    "- Key methods:  stack(), push \"\", peek(), pop()"
   ]
  },
  {
   "cell_type": "code",
   "execution_count": 70,
   "metadata": {},
   "outputs": [
    {
     "name": "stdout",
     "output_type": "stream",
     "text": [
      "[0, 0, 0]\n",
      "[5, 0, 0]\n",
      "[5, 2, 0]\n",
      "[5, 2, 8]\n",
      "Stack Overflow\n"
     ]
    }
   ],
   "source": [
    "size = 3\n",
    "data = [0]*(size)   #Initialize the stack\n",
    "top = -1\n",
    "def push(x):\n",
    "     global top\n",
    "     if top >= size - 1:\n",
    "           print(\"Stack Overflow\")\n",
    "     else:\n",
    "           top = top + 1\n",
    "           data[top] = x\n",
    "\n",
    "print(data)\n",
    "push(5)\n",
    "print(data)\n",
    "push(2)\n",
    "print(data)\n",
    "push(8)\n",
    "print(data)\n",
    "# not able to push last value - overflow\n",
    "push(4)"
   ]
  },
  {
   "cell_type": "code",
   "execution_count": null,
   "metadata": {},
   "outputs": [],
   "source": []
  },
  {
   "cell_type": "markdown",
   "metadata": {},
   "source": [
    "### Queues  \n",
    "- data is stored sequentially like lists and arrays but is managed by how data is added and removed\n",
    " - a queue works off the first in, first out (FIFO) principle\n",
    " - Key methods:  queue(), enqueue- \"packt\", enqueue \"publishing\", Size(), dequeue()\n",
    " - when creating list based queue, you can use lists or linked lists\n",
    " "
   ]
  },
  {
   "cell_type": "markdown",
   "metadata": {},
   "source": [
    "### Trees  \n",
    "- hierarchical form so very different than the linear fashion of lists, queues, and stacks\n",
    "- it is non-linear and has a parent-child relationship\n",
    "- traverse the tree by in-order, pre-order, or post-order"
   ]
  },
  {
   "cell_type": "code",
   "execution_count": 71,
   "metadata": {},
   "outputs": [],
   "source": [
    "class Node:\n",
    "    def __init__(self, data):\n",
    "        self.data = data\n",
    "        self.right_child = None\n",
    "        self.left_child = None"
   ]
  },
  {
   "cell_type": "code",
   "execution_count": 72,
   "metadata": {},
   "outputs": [],
   "source": [
    "n1 = Node(\"root node\")\n",
    "n2 = Node(\"left child node\")\n",
    "n3 = Node(\"right child node\")\n",
    "n4 = Node(\"left grandchild node\")\n",
    "\n",
    "n1.left_child = n2\n",
    "n1.right_child = n3\n",
    "n2.left_child = n4"
   ]
  },
  {
   "cell_type": "code",
   "execution_count": 73,
   "metadata": {},
   "outputs": [
    {
     "name": "stdout",
     "output_type": "stream",
     "text": [
      "root node\n",
      "left child node\n",
      "left grandchild node\n"
     ]
    }
   ],
   "source": [
    "current = n1\n",
    "while current:\n",
    "    print(current.data)\n",
    "    current = current.left_child"
   ]
  },
  {
   "cell_type": "code",
   "execution_count": 74,
   "metadata": {},
   "outputs": [
    {
     "name": "stdout",
     "output_type": "stream",
     "text": [
      "left grandchild node\n",
      "left child node\n",
      "root node\n",
      "right child node\n"
     ]
    }
   ],
   "source": [
    "# recursive inorder traverse\n",
    "def inorder(root_node):\n",
    "    current = root_node\n",
    "    if current is None:\n",
    "        return\n",
    "    inorder(current.left_child)\n",
    "    print(current.data)\n",
    "    inorder(current.right_child)\n",
    "inorder(n1)"
   ]
  },
  {
   "cell_type": "code",
   "execution_count": 75,
   "metadata": {},
   "outputs": [
    {
     "name": "stdout",
     "output_type": "stream",
     "text": [
      "root node\n",
      "left child node\n",
      "left grandchild node\n",
      "right child node\n"
     ]
    }
   ],
   "source": [
    "# recursive pre-order traverse\n",
    "def preorder(root_node):\n",
    "    current = root_node\n",
    "    if current is None:\n",
    "        return\n",
    "    print(current.data)\n",
    "    preorder(current.left_child)\n",
    "    preorder(current.right_child)\n",
    "preorder(n1)"
   ]
  },
  {
   "cell_type": "code",
   "execution_count": 76,
   "metadata": {
    "tags": []
   },
   "outputs": [
    {
     "name": "stdout",
     "output_type": "stream",
     "text": [
      "left grandchild node\n",
      "left child node\n",
      "right child node\n",
      "root node\n"
     ]
    }
   ],
   "source": [
    "# recursive post-order traverse\n",
    "def postorder( root_node):\n",
    "    current = root_node\n",
    "    if current is None:\n",
    "        return\n",
    "    postorder(current.left_child)\n",
    "    postorder(current.right_child)\n",
    "    print(current.data)\n",
    "postorder(n1)"
   ]
  },
  {
   "cell_type": "code",
   "execution_count": 77,
   "metadata": {},
   "outputs": [
    {
     "name": "stdout",
     "output_type": "stream",
     "text": [
      "['root node', 'left child node', 'right child node', 'left grandchild node']\n"
     ]
    }
   ],
   "source": [
    "# breadth-first traversal\n",
    "from collections import deque\n",
    "class Node:\n",
    "    def __init__(self, data):\n",
    "        self.data = data\n",
    "        self.right_child = None\n",
    "        self.left_child = None\n",
    "        \n",
    "n1 = Node(\"root node\")\n",
    "n2 = Node(\"left child node\")\n",
    "n3 = Node(\"right child node\")\n",
    "n4 = Node(\"left grandchild node\")\n",
    "n1.left_child = n2\n",
    "n1.right_child = n3\n",
    "n2.left_child = n4\n",
    " \n",
    "def level_order_traversal(root_node):\n",
    "    list_of_nodes = []\n",
    "    traversal_queue = deque([root_node])\n",
    "    while len(traversal_queue) > 0:\n",
    "        node = traversal_queue.popleft()\n",
    "        list_of_nodes.append(node.data)\n",
    "        if node.left_child:\n",
    "            traversal_queue.append(node.left_child)\n",
    "            if node.right_child:\n",
    "                traversal_queue.append(node.right_child)\n",
    "    return list_of_nodes\n",
    "print(level_order_traversal(n1))"
   ]
  },
  {
   "cell_type": "markdown",
   "metadata": {},
   "source": [
    "#### Expression Trees"
   ]
  },
  {
   "cell_type": "code",
   "execution_count": 78,
   "metadata": {},
   "outputs": [],
   "source": [
    "# create sample code later"
   ]
  },
  {
   "cell_type": "markdown",
   "metadata": {},
   "source": [
    "#### Binary search trees"
   ]
  },
  {
   "cell_type": "code",
   "execution_count": 79,
   "metadata": {},
   "outputs": [],
   "source": [
    "# create sample code later"
   ]
  },
  {
   "cell_type": "markdown",
   "metadata": {},
   "source": [
    "#### Heaps\n",
    "- A heap data structure is a tree-based data structure in which each node of the tree has a specific relationship with other nodes, and they are stored in a specific order"
   ]
  },
  {
   "cell_type": "code",
   "execution_count": 80,
   "metadata": {},
   "outputs": [],
   "source": [
    "# create sample code later"
   ]
  },
  {
   "cell_type": "markdown",
   "metadata": {},
   "source": [
    "#### Heap Sort"
   ]
  },
  {
   "cell_type": "code",
   "execution_count": 81,
   "metadata": {},
   "outputs": [],
   "source": [
    "# create sample code later"
   ]
  },
  {
   "cell_type": "markdown",
   "metadata": {},
   "source": [
    "#### Priority Queues\n",
    "- data structure that is similar to a queue in which data is retrieved based on the First In, First Out (FIFO) policy, but in the priority queue, priority is attached with the data. In the priority queue, the data is retrieved based on the priority associated with the data elements, the data elements with the highest priority are retrieved before the lower priority data elements, and if two data elements have the same priority, they are retrieved according to the FIFO policy."
   ]
  },
  {
   "cell_type": "code",
   "execution_count": 82,
   "metadata": {},
   "outputs": [],
   "source": [
    "# create sample code later"
   ]
  },
  {
   "cell_type": "markdown",
   "metadata": {},
   "source": [
    "#### Hash Tables\n",
    "* A hash table uses a hashing function in order to find an index position where an element should be stored and retrieved.\n",
    "* In practice, most of the hashing functions are imperfect and face collisions. This means that a hash function gives the same hash value to more than one string. \n",
    "* A hash table uses a hashing function in order to find an index position where an element should be stored and retrieved.\n",
    "* In practice, most of the hashing functions are imperfect and face collisions. This means that a hash function gives the same hash value to more than one string. \n"
   ]
  },
  {
   "cell_type": "code",
   "execution_count": 83,
   "metadata": {},
   "outputs": [
    {
     "name": "stdout",
     "output_type": "stream",
     "text": [
      "Load factor < Max Load factor 0.00390625\n",
      "Load factor < Max Load factor 0.0078125\n",
      "Load factor < Max Load factor 0.01171875\n",
      "Load factor < Max Load factor 0.015625\n",
      "Load factor < Max Load factor 0.01953125\n",
      "Load factor before growing the hash table 0.0234375\n",
      "Load factor < Max Load factor 0.001953125\n",
      "Load factor < Max Load factor 0.00390625\n",
      "Load factor < Max Load factor 0.005859375\n",
      "Load factor < Max Load factor 0.0078125\n",
      "Load factor < Max Load factor 0.009765625\n",
      "Load factor < Max Load factor 0.01171875\n",
      "Load factor after growing the hash table 0.01171875\n",
      "Load factor < Max Load factor 0.013671875\n",
      "Load factor < Max Load factor 0.013671875\n",
      "Load factor < Max Load factor 0.013671875\n",
      "Load factor < Max Load factor 0.013671875\n",
      "Load factor < Max Load factor 0.013671875\n",
      "Load factor < Max Load factor 0.013671875\n",
      "eggs\n",
      "ham\n",
      "spam\n",
      "None\n",
      "do not\n",
      "collide\n"
     ]
    }
   ],
   "source": [
    "class HashItem: \n",
    "    def __init__(self, key, value): \n",
    "        self.key = key \n",
    "        self.value = value\n",
    "\n",
    "class HashTable: \n",
    "    def __init__(self): \n",
    "        self.size = 256 \n",
    "        self.slots = [None for i in range(self.size)] \n",
    "        self.count = 0\n",
    "        self.MAXLOADFACTOR = 0.02\n",
    "    \n",
    "    # these dunders allow the hash table to act like a dictionary\n",
    "    def __setitem__(self, key, value):\n",
    "        self.put(key, value)\n",
    "    \n",
    "    def __getitem__(self, key):\n",
    "        return self.get(key)\n",
    "\n",
    "    def _hash(self, key): \n",
    "        mult = 1 \n",
    "        hv = 0 \n",
    "        for ch in key: \n",
    "            hv += mult * ord(ch) \n",
    "            mult += 1 \n",
    "        return hv % self.size \n",
    "\n",
    "    def put(self, key, value): \n",
    "        item = HashItem(key, value) \n",
    "        h = self._hash(key)\n",
    "        while self.slots[h] != None:\n",
    "            if self.slots[h].key == key:\n",
    "                break\n",
    "            h = (h + 1) % self.size\n",
    "        if self.slots[h] == None:\n",
    "            self.count += 1\n",
    "        self.slots[h] = item\n",
    "        self.check_growth()\n",
    "\n",
    "    def get(self, key): \n",
    "        h = self._hash(key)    # computed hash for the given key \n",
    "        while self.slots[h] != None:\n",
    "            if self.slots[h].key == key: \n",
    "                return self.slots[h].value \n",
    "            h = (h+ 1) % self.size \n",
    "        return None\n",
    "\n",
    "    def check_growth(self):\n",
    "        loadfactor = self.count / self.size \n",
    "        if loadfactor > self.MAXLOADFACTOR:\n",
    "            print(\"Load factor before growing the hash table\", self.count / self.size )\n",
    "            self.growth()\n",
    "            print(\"Load factor after growing the hash table\", self.count / self.size )\n",
    "        else:\n",
    "            print(\"Load factor < Max Load factor\", loadfactor )\n",
    "\n",
    "    def growth(self):\n",
    "        New_Hash_Table = HashTable()\n",
    "        New_Hash_Table.size = 2 * self.size\n",
    "        New_Hash_Table.slots = [None for i in range(New_Hash_Table.size)]\n",
    "\n",
    "        for i in range(self.size):\n",
    "             if self.slots[i] != None:\n",
    "                New_Hash_Table.put(self.slots[i].key, self.slots[i].value)\n",
    "\n",
    "        self.size = New_Hash_Table.size\n",
    "        self.slots = New_Hash_Table.slots\n",
    "        \n",
    "        \n",
    "# Test Methods\n",
    "# create\n",
    "ht = HashTable() \n",
    "\n",
    "# add\n",
    "ht.put(\"good\", \"eggs\") \n",
    "ht.put(\"better\", \"ham\") \n",
    "ht.put(\"best\", \"spam\") \n",
    "ht.put(\"ad\", \"do not\") \n",
    "ht.put(\"ga\", \"collide\") \n",
    "ht.put(\"awd\", \"do not\") \n",
    "ht.put(\"add\", \"do not\") \n",
    "ht.put(\"ad\", \"do not\") \n",
    "ht.put(\"ga\", \"collide\") \n",
    "ht.put(\"awd\", \"do not\") \n",
    "ht.put(\"add\", \"do not\") \n",
    "\n",
    "# check\n",
    "ht.check_growth()\n",
    "\n",
    "# retreive\n",
    "for key in (\"good\", \"better\", \"best\", \"worst\", \"ad\", \"ga\"):\n",
    "    v = ht.get(key)\n",
    "    print(v)"
   ]
  },
  {
   "cell_type": "markdown",
   "metadata": {},
   "source": [
    "#### Graphs and Algorithms"
   ]
  },
  {
   "cell_type": "code",
   "execution_count": 84,
   "metadata": {},
   "outputs": [
    {
     "name": "stdout",
     "output_type": "stream",
     "text": [
      "['A', 'B', 'D', 'G', 'E', 'F', 'C', 'H']\n"
     ]
    }
   ],
   "source": [
    "# breadth-first search (BFS) - O(|V| + |E|)\n",
    "graph = dict()\n",
    "graph['A'] = ['B', 'G', 'D']\n",
    "graph['B'] = ['A', 'F', 'E']\n",
    "graph['C'] = ['F', 'H']\n",
    "graph['D'] = ['F', 'A']\n",
    "graph['E'] = ['B', 'G']\n",
    "graph['F'] = ['B', 'D', 'C']\n",
    "graph['G'] = ['A', 'E']\n",
    "graph['H'] = ['C']\n",
    "\n",
    "from collections import deque\n",
    "def breadth_first_search(graph, root):\n",
    "    visited_vertices = list()\n",
    "    graph_queue = deque([root])\n",
    "    visited_vertices.append(root)\n",
    "    node = root\n",
    "    while len(graph_queue) > 0:\n",
    "        node = graph_queue.popleft()\n",
    "        adj_nodes = graph[node]\n",
    "        remaining_elements = set(adj_nodes).difference(set(visited_vertices))\n",
    "        if len(remaining_elements) > 0:\n",
    "             for elem in sorted(remaining_elements):\n",
    "                 visited_vertices.append(elem)\n",
    "                 graph_queue.append(elem)\n",
    "    return visited_vertices\n",
    "\n",
    "print(breadth_first_search(graph, 'A'))"
   ]
  },
  {
   "cell_type": "code",
   "execution_count": 85,
   "metadata": {},
   "outputs": [
    {
     "name": "stdout",
     "output_type": "stream",
     "text": [
      "['A', 'B', 'S', 'C', 'D', 'E', 'H', 'G', 'F']\n"
     ]
    }
   ],
   "source": [
    "# depth-first search (DFS) - O(V^2)\n",
    "\n",
    "graph = dict()\n",
    "graph['A'] = ['B', 'S']\n",
    "graph['B'] = ['A']\n",
    "graph['S'] = ['A','G','C']\n",
    "graph['D'] = ['C']\n",
    "graph['G'] = ['S','F','H']\n",
    "graph['H'] = ['G','E']\n",
    "graph['E'] = ['C','H']\n",
    "graph['F'] = ['C','G']\n",
    "graph['C'] = ['D','S','E','F']\n",
    "              \n",
    "              \n",
    "def depth_first_search(graph, root):\n",
    "    visited_vertices = list()\n",
    "    graph_stack = list()\n",
    "    graph_stack.append(root)\n",
    "    node = root\n",
    "    while graph_stack: \n",
    "        if node not in visited_vertices: \n",
    "            visited_vertices.append(node) \n",
    "        adj_nodes = graph[node] \n",
    "        if set(adj_nodes).issubset(set(visited_vertices)): \n",
    "            graph_stack.pop() \n",
    "            if len(graph_stack) > 0: \n",
    "                node = graph_stack[-1] \n",
    "            continue \n",
    "        else: \n",
    "            remaining_elements = set(adj_nodes).difference(set(visited_vertices)) \n",
    "        first_adj_node = sorted(remaining_elements)[0] \n",
    "        graph_stack.append(first_adj_node) \n",
    "        node = first_adj_node \n",
    "    return visited_vertices \n",
    "\n",
    "print(depth_first_search(graph, 'A'))              "
   ]
  },
  {
   "cell_type": "markdown",
   "metadata": {},
   "source": [
    "#### Other Algorithms\n",
    "- Minimum Spanning Tree (MST)\n",
    "- Kruskal's Minimum Spanning Tree\n",
    "- Prim's Minimum Spanning Tree"
   ]
  },
  {
   "cell_type": "markdown",
   "metadata": {},
   "source": [
    "#### Searching\n",
    "- Algorithms for order and unordered lists"
   ]
  },
  {
   "cell_type": "code",
   "execution_count": 86,
   "metadata": {},
   "outputs": [
    {
     "name": "stdout",
     "output_type": "stream",
     "text": [
      "3\n"
     ]
    }
   ],
   "source": [
    "# Unordered Linear search - O(n)\n",
    "def search(unordered_list, term):\n",
    "    for i, item in enumerate(unordered_list):\n",
    "        if term == unordered_list[i]:\n",
    "            return i\n",
    "    return None\n",
    "\n",
    "list1 = [60, 1, 88, 10, 11, 600]\n",
    " \n",
    "search_term = 10\n",
    "index_position = search(list1, search_term) \n",
    "print(index_position)"
   ]
  },
  {
   "cell_type": "code",
   "execution_count": 87,
   "metadata": {},
   "outputs": [
    {
     "name": "stdout",
     "output_type": "stream",
     "text": [
      "6 found at position 3\n"
     ]
    }
   ],
   "source": [
    "# Ordered linear search - O(n)\n",
    "def search_ordered(ordered_list, term):\n",
    "    ordered_list_size = len(ordered_list)\n",
    "    for i in range(ordered_list_size):\n",
    "        if term == ordered_list[i]:\n",
    "            return i\n",
    "        elif ordered_list[i] > term:\n",
    "            return None\n",
    "    return None\n",
    "\n",
    "list1 = [2, 3, 4, 6, 7]\n",
    "search_term = 6\n",
    "index_position1 = search_ordered(list1, search_term)\n",
    " \n",
    "if index_position1 is None:\n",
    "    print(\"{} not found\".format(search_term))\n",
    "else:\n",
    "    print(\"{} found at position {}\".format(search_term, index_position1))"
   ]
  },
  {
   "cell_type": "code",
   "execution_count": 88,
   "metadata": {},
   "outputs": [
    {
     "name": "stdout",
     "output_type": "stream",
     "text": [
      "Entering Jump Search\n",
      "Block under consideration - [1, 2]\n",
      "Block under consideration - [4, 6]\n",
      "Block under consideration - [8, 10]\n",
      "Entering Linear Search\n",
      "Index of search value: 4\n"
     ]
    }
   ],
   "source": [
    "# Jump Search (ordered list) \n",
    "\n",
    "# Linear search\n",
    "def search_ordered(ordered_list, term):\n",
    "    print(\"Entering Linear Search\")\n",
    "    ordered_list_size = len(ordered_list)\n",
    "    for i in range(ordered_list_size):\n",
    "        if term == ordered_list[i]:\n",
    "            return i\n",
    "        elif ordered_list[i] > term:\n",
    "            return -1\n",
    "    return -1\n",
    "\n",
    "# Jump Search\n",
    "def jump_search(ordered_list, item):\n",
    "    import math\n",
    "    print(\"Entering Jump Search\")\n",
    "    list_size = len(ordered_list)\n",
    "    block_size = int(math.sqrt(list_size))\n",
    "    i = 0\n",
    "    while i != len(ordered_list)-1 and ordered_list[i] <= item: \n",
    "        print(\"Block under consideration - {}\".format(ordered_list[i: i+block_size]))\n",
    "        if i+ block_size > len(ordered_list):\n",
    "            block_size =  len(ordered_list) - i\n",
    "            block_list = ordered_list[i: i+block_size]\n",
    "            j = search_ordered(block_list, item)\n",
    "            if j == -1:\n",
    "                print(\"Element not found\")\n",
    "                return\n",
    "            return i + j\n",
    "        if ordered_list[i + block_size -1] == item: \n",
    "            return i+block_size-1\n",
    "        elif ordered_list[i + block_size - 1] > item: \n",
    "            block_array = ordered_list[i: i + block_size - 1]\n",
    "            j = search_ordered(block_array, item)\n",
    "            if j == -1:\n",
    "                print(\"Element not found\")\n",
    "                return\n",
    "            return i + j\n",
    "        i += block_size\n",
    "        \n",
    "print(f'Index of search value: {jump_search([1,2,4,6,8,10,11], 8)}')"
   ]
  },
  {
   "cell_type": "code",
   "execution_count": 89,
   "metadata": {},
   "outputs": [
    {
     "name": "stdout",
     "output_type": "stream",
     "text": [
      "The data item 10 is found at position 0\n"
     ]
    }
   ],
   "source": [
    "# Binary search - iterative solution - O(logn)\n",
    "def binary_search_iterative(ordered_list, term):\n",
    "    size_of_list = len(ordered_list) - 1\n",
    "    index_of_first_element = 0\n",
    "    index_of_last_element = size_of_list\n",
    "    while index_of_first_element <= index_of_last_element:\n",
    "        mid_point = int((index_of_first_element + index_of_last_element)/2)\n",
    "        if ordered_list[mid_point] == term:\n",
    "            return mid_point\n",
    "        if term > ordered_list[mid_point]:\n",
    "            index_of_first_element = mid_point + 1\n",
    "        else:\n",
    "            index_of_last_element = mid_point - 1\n",
    "    if index_of_first_element > index_of_last_element:\n",
    "        return None\n",
    "    \n",
    "list1 = [10, 30, 100, 120, 500]\n",
    "search_term = 10\n",
    "index_position1 = binary_search_iterative(list1, search_term)\n",
    "if index_position1 is None:\n",
    "    print(\"The data item {} is not found\".format(search_term))\n",
    "else:\n",
    "    print(\"The data item {} is found at position {}\".format(search_term, index_position1))"
   ]
  },
  {
   "cell_type": "code",
   "execution_count": 90,
   "metadata": {},
   "outputs": [
    {
     "name": "stdout",
     "output_type": "stream",
     "text": [
      "The data item 10 is found at position 0\n"
     ]
    }
   ],
   "source": [
    "# Binary search - recursive solution - O(logn)\n",
    "def binary_search_recursive(ordered_list, first_element_index, last_element_index, term):\n",
    "    if (last_element_index < first_element_index):\n",
    "        return None\n",
    "    else:\n",
    "        mid_point = first_element_index + ((last_element_index - first_element_index) // 2)\n",
    "        if ordered_list[mid_point] > term:\n",
    "            return binary_search_recursive (ordered_list, first_element_index, mid_point-1, term)\n",
    "        elif ordered_list[mid_point] < term:\n",
    "            return binary_search_recursive (ordered_list, mid_point+1, last_element_index, term)\n",
    "        else:\n",
    "            return mid_point\n",
    "\n",
    "list1 = [10, 30, 100, 120, 500]\n",
    "search_term = 10\n",
    "index_position1 =  binary_search_recursive(list1, 0, len(list1)-1, search_term)\n",
    "if index_position1 is None:\n",
    "    print(\"The data item {} is not found\".format(search_term))\n",
    "else:\n",
    "    print(\"The data item {} is found at position {}\".format(search_term, index_position1))"
   ]
  },
  {
   "cell_type": "code",
   "execution_count": 91,
   "metadata": {},
   "outputs": [
    {
     "name": "stdout",
     "output_type": "stream",
     "text": [
      "Index position of value 2 is  4\n"
     ]
    }
   ],
   "source": [
    "# Interprolation search - O(n)\n",
    "\n",
    "def nearest_mid(input_list, low_index, upper_index, search_value):\n",
    "    mid = low_index + (( upper_index - low_index)/(input_list[upper_index] - input_list[low_index])) * (search_value - input_list[low_index])\n",
    "    return int(mid)\n",
    "\n",
    "def interpolation_search(ordered_list, search_value):\n",
    "    low_index = 0\n",
    "    upper_index = len(ordered_list) - 1\n",
    "    while low_index <= upper_index:\n",
    "        mid_point = nearest_mid(ordered_list, low_index, upper_index, search_value)\n",
    "        if mid_point > upper_index or mid_point < low_index:\n",
    "            return None\n",
    "        if ordered_list[mid_point] == search_value:\n",
    "            return mid_point\n",
    "        if search_value > ordered_list[mid_point]:\n",
    "            low_index = mid_point + 1\n",
    "        else:\n",
    "            upper_index = mid_point - 1\n",
    "    if low_index > upper_index:\n",
    "        return None\n",
    "    \n",
    "list1 = [44, 60, 75, 100, 120, 230, 250]\n",
    "a = interpolation_search(list1, 120)\n",
    "print(\"Index position of value 2 is \", a)"
   ]
  },
  {
   "cell_type": "code",
   "execution_count": 92,
   "metadata": {},
   "outputs": [
    {
     "name": "stdout",
     "output_type": "stream",
     "text": [
      "12\n"
     ]
    }
   ],
   "source": [
    "# Exponentail search (aka galloping search) - O(log(i))\n",
    "def binary_search_recursive(ordered_list, first_element_index, last_element_index, term):\n",
    "    if (last_element_index < first_element_index):\n",
    "        return None\n",
    "    else:\n",
    "        mid_point = first_element_index + ((last_element_index - first_element_index) // 2)\n",
    "        if ordered_list[mid_point] > term:\n",
    "            return binary_search_recursive (ordered_list, first_element_index, mid_point-1, term)\n",
    "        elif ordered_list[mid_point] < term:\n",
    "            return binary_search_recursive (ordered_list, mid_point+1, last_element_index, term)\n",
    "        else:\n",
    "            return mid_point\n",
    "\n",
    "def exponential_search(A, search_value):\n",
    "    if (A[0] == search_value):\n",
    "        return 0    \n",
    "    index = 1\n",
    "    while index < len(A) and A[index] < search_value:\n",
    "        index *= 2       \n",
    "    return binary_search_recursive(A, index // 2, min(index, len(A) - 1), search_value)\n",
    "\n",
    "\n",
    "print(exponential_search([1,2,3,4,5,6,7,8,9, 10, 11, 12, 34, 40], 34))"
   ]
  },
  {
   "cell_type": "markdown",
   "metadata": {},
   "source": [
    "#### Choosing a search algorithm\n",
    "If the list is short and unsorted, then the linear search algorithm is suitable, and if the list is sorted and not very big then the binary search algorithm can be used. Further, the interpolation search algorithm is good to use if the data elements in the list are uniformly distributed. If the list is very large, then the exponential search algorithm and jump search algorithm can be used.Therefore, if the list is short and unsorted, then the linear search algorithm is suitable, and if the list is sorted and not very big then the binary search algorithm can be used. Further, the interpolation search algorithm is good to use if the data elements in the list are uniformly distributed. If the list is very large, then the exponential search algorithm and jump search algorithm can be used."
   ]
  },
  {
   "cell_type": "code",
   "execution_count": null,
   "metadata": {},
   "outputs": [],
   "source": []
  },
  {
   "cell_type": "markdown",
   "metadata": {},
   "source": [
    "#### Sorting Algorithms"
   ]
  },
  {
   "cell_type": "code",
   "execution_count": 93,
   "metadata": {},
   "outputs": [
    {
     "name": "stdout",
     "output_type": "stream",
     "text": [
      "[1, 2, 3, 4]\n"
     ]
    }
   ],
   "source": [
    "# Bubble sort - O(n^2)\n",
    "def bubble_sort(unordered_list):\n",
    "    iteration_number = len(unordered_list)-1\n",
    "    for i in range(iteration_number,0,-1):\n",
    "        for j in range(i):\n",
    "            if unordered_list[j] > unordered_list[j+1]:\n",
    "                temp = unordered_list[j]\n",
    "                unordered_list[j] = unordered_list[j+1]\n",
    "                unordered_list[j+1] = temp\n",
    "                \n",
    "my_list = [4,3,2,1]\n",
    "bubble_sort(my_list)\n",
    "print(my_list)"
   ]
  },
  {
   "cell_type": "code",
   "execution_count": 94,
   "metadata": {},
   "outputs": [
    {
     "name": "stdout",
     "output_type": "stream",
     "text": [
      "Original list [5, 1, 100, 2, 10]\n",
      "Sorted list [1, 2, 5, 10, 100]\n"
     ]
    }
   ],
   "source": [
    "# Insertion sort - O(n^2)\n",
    "def insertion_sort(unsorted_list):\n",
    "    for index in range(1, len(unsorted_list)):\n",
    "        search_index = index\n",
    "        insert_value = unsorted_list[index]\n",
    "        while search_index > 0 and unsorted_list[search_index-1] > insert_value :\n",
    "            unsorted_list[search_index] = unsorted_list[search_index-1]\n",
    "            search_index -= 1\n",
    "        unsorted_list[search_index] = insert_value\n",
    "        \n",
    "my_list = [5, 1, 100, 2, 10]\n",
    "print(\"Original list\", my_list)\n",
    "insertion_sort(my_list)\n",
    "print(\"Sorted list\", my_list)"
   ]
  },
  {
   "cell_type": "code",
   "execution_count": 95,
   "metadata": {},
   "outputs": [
    {
     "name": "stdout",
     "output_type": "stream",
     "text": [
      "List before sorting [3, 2, 35, 4, 32, 94, 5, 7]\n",
      "List after sorting [2, 3, 4, 5, 7, 32, 35, 94]\n"
     ]
    }
   ],
   "source": [
    "# Selection sort - O(n^2)\n",
    "def selection_sort(unsorted_list): \n",
    "    size_of_list = len(unsorted_list) \n",
    "    for i in range(size_of_list): \n",
    "        small = i\n",
    "        for j in range(i+1, size_of_list): \n",
    "            if unsorted_list[j] < unsorted_list[small]: \n",
    "                small = j\n",
    "        temp = unsorted_list[i] \n",
    "        unsorted_list[i] = unsorted_list[small] \n",
    "        unsorted_list[small] = temp\n",
    "        \n",
    "a_list = [3, 2, 35, 4, 32, 94, 5, 7]\n",
    "print(\"List before sorting\", a_list)\n",
    "selection_sort(a_list)\n",
    "print(\"List after sorting\", a_list)"
   ]
  },
  {
   "cell_type": "code",
   "execution_count": 96,
   "metadata": {},
   "outputs": [
    {
     "name": "stdout",
     "output_type": "stream",
     "text": [
      "[43, 3, 77, 89, 4, 20]\n",
      "[3, 4, 20, 43, 77, 89]\n"
     ]
    }
   ],
   "source": [
    "# Quicksort\n",
    "def partition(unsorted_array, first_index, last_index):\n",
    "    pivot = unsorted_array[first_index]\n",
    "    pivot_index = first_index\n",
    "    index_of_last_element = last_index\n",
    "    less_than_pivot_index = index_of_last_element\n",
    "    greater_than_pivot_index = first_index + 1\n",
    "    while True:\n",
    "        while unsorted_array[greater_than_pivot_index] < pivot and greater_than_pivot_index < last_index:\n",
    "            greater_than_pivot_index += 1\n",
    "        while unsorted_array[less_than_pivot_index] > pivot and less_than_pivot_index >= first_index:\n",
    "            less_than_pivot_index -= 1\n",
    "        if greater_than_pivot_index < less_than_pivot_index:\n",
    "            temp = unsorted_array[greater_than_pivot_index]\n",
    "            unsorted_array[greater_than_pivot_index] = unsorted_array[less_than_pivot_index]\n",
    "            unsorted_array[less_than_pivot_index] = temp\n",
    "        else:\n",
    "            break\n",
    "    unsorted_array[pivot_index] = unsorted_array[less_than_pivot_index]\n",
    "    unsorted_array[less_than_pivot_index] = pivot\n",
    "    return less_than_pivot_index\n",
    "\n",
    "def quick_sort(unsorted_array, first, last):\n",
    "    if last - first <= 0:\n",
    "        return\n",
    "    else:\n",
    "        partition_point = partition(unsorted_array, first, last)\n",
    "        quick_sort(unsorted_array, first, partition_point-1)\n",
    "        quick_sort(unsorted_array, partition_point+1, last)\n",
    "\n",
    "my_array = [43, 3, 77, 89, 4, 20]\n",
    "print(my_array)\n",
    "quick_sort(my_array, 0, 5)\n",
    "print(my_array)"
   ]
  },
  {
   "cell_type": "code",
   "execution_count": 97,
   "metadata": {},
   "outputs": [
    {
     "name": "stdout",
     "output_type": "stream",
     "text": [
      "[2, 3, 4, 5, 6, 7, 8, 9]\n"
     ]
    }
   ],
   "source": [
    "# Timsort - O(nlogn)\n",
    "def Insertion_Sort(unsorted_list): \n",
    "    for index in range(1, len(unsorted_list)): \n",
    "        search_index = index \n",
    "        insert_value = unsorted_list[index] \n",
    "        while search_index > 0 and unsorted_list[search_index-1] > insert_value : \n",
    "            unsorted_list[search_index] = unsorted_list[search_index-1] \n",
    "            search_index -= 1 \n",
    "        unsorted_list[search_index] = insert_value \n",
    "    return unsorted_list\n",
    "\n",
    "def Merge(first_sublist, second_sublist):\n",
    "    i = j = 0\n",
    "    merged_list = []\n",
    "    while i < len(first_sublist) and j < len(second_sublist):\n",
    "        if first_sublist[i] < second_sublist[j]:\n",
    "            merged_list.append(first_sublist[i])  \n",
    "            i += 1  \n",
    "        else:\n",
    "            merged_list.append(second_sublist[j])  \n",
    "            j += 1\n",
    "    while i < len(first_sublist):  \n",
    "        merged_list.append(first_sublist[i])  \n",
    "        i += 1  \n",
    "    while j < len(second_sublist):\n",
    "        merged_list.append(second_sublist[j])  \n",
    "        j += 1\n",
    "    return merged_list\n",
    "\n",
    "def Tim_Sort(arr, run):\n",
    "    for x in range(0, len(arr), run):\n",
    "        arr[x : x + run] = Insertion_Sort(arr[x : x + run]) \n",
    "    runSize = run    \n",
    "    while runSize < len(arr):\n",
    "        for x in range(0, len(arr), 2 * runSize):\n",
    "            arr[x : x + 2 * runSize] = Merge(arr[x : x + runSize], arr[x + runSize: x + 2 * runSize]) \n",
    "            \n",
    "        runSize = runSize * 2\n",
    "        \n",
    "arr = [4, 6, 3, 9, 2, 8, 7, 5]\n",
    "run = 2\n",
    "Tim_Sort(arr, run) \n",
    "print(arr)"
   ]
  },
  {
   "cell_type": "code",
   "execution_count": null,
   "metadata": {},
   "outputs": [],
   "source": []
  },
  {
   "cell_type": "markdown",
   "metadata": {},
   "source": [
    "#### Selection Algorithms"
   ]
  },
  {
   "cell_type": "code",
   "execution_count": 98,
   "metadata": {},
   "outputs": [
    {
     "name": "stdout",
     "output_type": "stream",
     "text": [
      "The 2nd smallest element is 3\n",
      "The 3rd smallest element is 4\n"
     ]
    }
   ],
   "source": [
    "# Randomized select (aka quickselect) - O(n^2)\n",
    "\n",
    "\"\"\"\n",
    "One important fact about quicksort is that after every partitioning step, the index of the pivot does not change, even after the list becomes sorted. \n",
    "This means that after each iteration, the selected pivot value will be placed in its correct position in the list. \n",
    "This property of quicksort enables us to obtain the kth smallest number without sorting the complete list. \n",
    "\"\"\"\n",
    "\n",
    "# quick sort\n",
    "def quick_select(array_list, start, end, k):\n",
    "    split = partition(array_list, start, end)\n",
    "    if split == k:\n",
    "        return array_list[split]\n",
    "    elif split < k:\n",
    "        return quick_select(array_list, split + 1, end, k)\n",
    "    else:\n",
    "        return quick_select(array_list, start, split-1, k)\n",
    "\n",
    "# quickselect    \n",
    "def partition(unsorted_array, first_index, last_index):\n",
    "    pivot = unsorted_array[first_index]\n",
    "    pivot_index = first_index\n",
    "    index_of_last_element = last_index\n",
    "    less_than_pivot_index = index_of_last_element\n",
    "    greater_than_pivot_index = first_index + 1\n",
    "    while True:\n",
    "        while unsorted_array[greater_than_pivot_index] < pivot and greater_than_pivot_index < last_index:\n",
    "            greater_than_pivot_index += 1\n",
    "        while unsorted_array[less_than_pivot_index] > pivot and less_than_pivot_index >= first_index:\n",
    "            less_than_pivot_index -= 1\n",
    "        if greater_than_pivot_index < less_than_pivot_index:\n",
    "            temp = unsorted_array[greater_than_pivot_index]\n",
    "            unsorted_array[greater_than_pivot_index] = unsorted_array[less_than_pivot_index]\n",
    "            unsorted_array[less_than_pivot_index] = temp\n",
    "        else:\n",
    "            break\n",
    "    unsorted_array[pivot_index] = unsorted_array[less_than_pivot_index]\n",
    "    unsorted_array[less_than_pivot_index] = pivot\n",
    "    return less_than_pivot_index\n",
    "\n",
    "list1 = [3,1,10, 4, 6, 5]\n",
    "print(\"The 2nd smallest element is\", quick_select(list1, 0, 5, 1))\n",
    "print(\"The 3rd smallest element is\", quick_select(list1, 0, 5, 2))"
   ]
  },
  {
   "cell_type": "code",
   "execution_count": 99,
   "metadata": {},
   "outputs": [
    {
     "name": "stdout",
     "output_type": "stream",
     "text": [
      "The 6th smallest element is 6\n"
     ]
    }
   ],
   "source": [
    "# Determininistic selection\n",
    "def median_of_medians(elems):  \n",
    "    sublists = [elems[j:j+5] for j in range(0, len(elems), 5)] \n",
    "    medians = [] \n",
    "    for sublist in sublists: \n",
    "        medians.append(sorted(sublist)[int(len(sublist)/2)]) \n",
    "    if len(medians) <= 5: \n",
    "        return sorted(medians)[int(len(medians)/2)]\n",
    "    else: \n",
    "        return median_of_medians(medians)\n",
    "\n",
    "def get_index_of_nearest_median(array_list, first, last, median): \n",
    "    if first == last: \n",
    "        return first \n",
    "    else: \n",
    "        return array_list.index(median)\n",
    "\n",
    "def swap(array_list, first, index_of_nearest_median):\n",
    "    temp = array_list[first]\n",
    "    array_list[first] = array_list[index_of_nearest_median]\n",
    "    array_list[index_of_nearest_median] = temp\n",
    "    \n",
    "def partition(unsorted_array, first_index, last_index): \n",
    "    if first_index == last_index: \n",
    "        return first_index \n",
    "    else: \n",
    "        nearest_median = median_of_medians(unsorted_array[first_index:last_index]) \n",
    "    index_of_nearest_median = get_index_of_nearest_median(unsorted_array, first_index, last_index, nearest_median) \n",
    "    swap(unsorted_array, first_index, index_of_nearest_median) \n",
    " \n",
    "    pivot = unsorted_array[first_index] \n",
    "    pivot_index = first_index \n",
    "    index_of_last_element = last_index \n",
    "    less_than_pivot_index = index_of_last_element \n",
    "    greater_than_pivot_index = first_index + 1 \n",
    " \n",
    "    ## This while loop is used to correctly place pivot element at its correct position \n",
    "    while 1:\n",
    "        while unsorted_array[greater_than_pivot_index] < pivot and greater_than_pivot_index < last_index:\n",
    "            greater_than_pivot_index += 1\n",
    "        while unsorted_array[less_than_pivot_index] > pivot and less_than_pivot_index >= first_index:\n",
    "            less_than_pivot_index -= 1\n",
    " \n",
    "        if greater_than_pivot_index < less_than_pivot_index:\n",
    "            temp = unsorted_array[greater_than_pivot_index]\n",
    "            unsorted_array[greater_than_pivot_index] = unsorted_array[less_than_pivot_index]\n",
    "            unsorted_array[less_than_pivot_index] = temp\n",
    "        else:\n",
    "            break\n",
    " \n",
    "    unsorted_array[pivot_index]=unsorted_array[less_than_pivot_index]\n",
    "    unsorted_array[less_than_pivot_index]=pivot\n",
    "    return less_than_pivot_index\n",
    "\n",
    "def deterministic_select(array_list, start, end, k): \n",
    "    split = partition(array_list, start, end) \n",
    "    if split == k: \n",
    "        return array_list[split] \n",
    "    elif split < k:\n",
    "        return deterministic_select(array_list, split + 1, end, k) \n",
    "    else: \n",
    "        return deterministic_select(array_list, start, split-1, k)\n",
    "    \n",
    "list1= [2, 3, 5, 4, 1, 12, 11, 13, 16, 7, 8, 6, 10, 9, 17, 15, 19, 20, 18, 23, 21, 22, 25, 24, 14]\n",
    "print(\"The 6th smallest element is\", deterministic_select(list1, 0, len(list1)-1, 5))\n"
   ]
  },
  {
   "cell_type": "markdown",
   "metadata": {
    "tags": []
   },
   "source": [
    "#### String Matching Algorithms"
   ]
  },
  {
   "cell_type": "code",
   "execution_count": 100,
   "metadata": {
    "tags": []
   },
   "outputs": [
    {
     "name": "stdout",
     "output_type": "stream",
     "text": [
      "\n",
      "Pattern occurs at index 14\n"
     ]
    }
   ],
   "source": [
    "# Brute force \n",
    "def brute_force(text, pattern):\n",
    "    l1 = len(text)      # The length of the text string\n",
    "    l2 = len(pattern)   # The length of the pattern \n",
    "    i = 0\n",
    "    j = 0               # looping variables are set to 0\n",
    "    flag = False        # If the pattern doesn't appear at all, then set this to false and execute the last if statement\n",
    "    while i < l1:         # iterating from the 0th index of text\n",
    "        j = 0\n",
    "        count = 0    \n",
    "        # Count stores the length upto which the pattern and the text have matched\n",
    "        while j < l2:\n",
    "            if i+j < l1 and text[i+j] == pattern[j]:  \n",
    "        # statement to check if a match has occurred or not\n",
    "                count += 1     # Count is incremented if a character is matched \n",
    "            j += 1\n",
    "        if count == l2:   # it shows a matching of pattern in the text \n",
    "                print(\"\\nPattern occurs at index\", i) \n",
    "                # print the starting index of the successful match\n",
    "                flag = True \n",
    "                # flag is True as we wish to continue looking for more matching of pattern in the text. \n",
    "        i += 1\n",
    "    if not flag: \n",
    "        # If the pattern doesn't occur at all, means no match of pattern in the text string\n",
    "        print('\\nPattern is not at all present in the array')\n",
    "              \n",
    "brute_force('acbcabccababcaacbcac','acbcac')\n",
    "              "
   ]
  },
  {
   "cell_type": "code",
   "execution_count": 101,
   "metadata": {
    "tags": []
   },
   "outputs": [
    {
     "name": "stdout",
     "output_type": "stream",
     "text": [
      "Pattern occurs at index 11\n"
     ]
    }
   ],
   "source": [
    "# Rabin-Karp algorithm\n",
    "\n",
    "# hash text\n",
    "def generate_hash(text, pattern):\n",
    "    ord_text = [ord(i) for i in text]       # stores unicode value of each character in text\n",
    "    ord_pattern = [ord(j) for j in pattern] # stores unicode value of each character in pattern\n",
    "    len_text = len(text)                    # stores length of the text \n",
    "    len_pattern = len(pattern)              # stores length of the pattern\n",
    "    len_hash_array = len_text - len_pattern + 1 # stores the length of new array that will contain the hash values of text\n",
    "    hash_text = [0]*(len_hash_array)        # Initialize all the values in the array to 0.\n",
    "    hash_pattern = sum(ord_pattern)                                                \n",
    "    for i in range(0,len_hash_array):       # step size of the loop will be the size of the pattern\n",
    "        if i == 0:                          # Base condition \n",
    "            hash_text[i] = sum(ord_text[:len_pattern])   # initial value of hash function\n",
    "        else:\n",
    "            hash_text[i] = ((hash_text[i-1] - ord_text[i-1]) + ord_text[i+len_pattern-1])   # calculating next hash value using previous value\n",
    "    return [hash_text, hash_pattern]                 # return the hash values\n",
    "\n",
    "\n",
    "# find matches\n",
    "def Rabin_Karp_Matcher(text, pattern):\n",
    "    text = str(text)                            # convert text into string format\n",
    "    pattern = str(pattern)                 # convert pattern into string format\n",
    "    hash_text, hash_pattern = generate_hash(text, pattern) # generate hash values using generate_hash function\n",
    "    len_text = len(text)          # length of text\n",
    "    len_pattern = len(pattern)    # length of pattern \n",
    "    flag = False                  # checks if pattern is present atleast once or not at all \n",
    "    for i in range(len(hash_text)):                         \n",
    "        if hash_text[i] == hash_pattern:   # if the hash value matches\n",
    "            count = 0                      # count the total characters upto which both are similar\n",
    "            for j in range(len_pattern):                                 \n",
    "                if pattern[j] == text[i+j]: # checking equality for each character\n",
    "                    count += 1              # if value is equal, then update the count value\n",
    "                else:\n",
    "                    break\n",
    "            if count == len_pattern:        # if count is equal to length of pattern, it means there is a match\n",
    "                    flag = True             # update flag accordingly\n",
    "                    print('Pattern occurs at index',i)\n",
    "    if not flag:                            # if pattern doesn't match even once, then this if statement is executed\n",
    "        print('Pattern is not at all present in the text')\n",
    "        \n",
    "Rabin_Karp_Matcher(\"ABBACCADABBACCEDF\",\"ACCE\")"
   ]
  },
  {
   "cell_type": "code",
   "execution_count": 102,
   "metadata": {
    "tags": []
   },
   "outputs": [
    {
     "name": "stdout",
     "output_type": "stream",
     "text": [
      "Pattern occurs at positions  0\n",
      "Pattern occurs at positions  9\n"
     ]
    }
   ],
   "source": [
    "# Knuth-Morris-Pratt algorithm\n",
    "\n",
    "# prefix\n",
    "def pfun(pattern):              # function to generate prefix function for the given pattern,  \n",
    "    n = len(pattern)            # length of the pattern \n",
    "    prefix_fun = [0]*(n)        # initialize all elements of the list to 0 \n",
    "    k = 0 \n",
    "    for q in range(2,n):\n",
    "        while k>0 and pattern[k+1] != pattern[q]: \n",
    "            k = prefix_fun[k] \n",
    "        if pattern[k+1] == pattern[q]:     # If the kth element of the pattern is equal to the qth element \n",
    "            k += 1                       # update k accordingly \n",
    "        prefix_fun[q] = k \n",
    "    return prefix_fun           # return the prefix function\n",
    "\n",
    "def KMP_Matcher(text,pattern):   # KMP matcher function\n",
    "    m = len(text)\n",
    "    n = len(pattern)\n",
    "    flag = False\n",
    "    text = '-' + text   # append dummy character to make it 1-based indexing\n",
    "    pattern = '-' + pattern # append dummy character to the pattern also\n",
    "    prefix_fun = pfun(pattern) # generate prefix function for the pattern\n",
    "    q = 0\n",
    "    for i in range(1,m+1):\n",
    "        while q>0 and pattern[q+1] != text[i]: # while pattern and text are not equal, decrement the value of q if it is > 0\n",
    "            q = prefix_fun[q]\n",
    "        if pattern[q+1] == text[i]:                 # if pattern and text are equal, update value of q\n",
    "            q += 1\n",
    "        if q == n:                                      # if q is equal to the length of the pattern, it means that the pattern has been found.\n",
    "            print(\"Pattern occurs at positions \",i-n)     # print the index, where first match occurs.\n",
    "            flag = True\n",
    "            q = prefix_fun[q]\n",
    "    if not flag:\n",
    "        print('\\nNo match found')\n",
    "    \n",
    "KMP_Matcher('aabaacaadaabaaba','aabaa')   # function call, with two parameters, text and pattern\n"
   ]
  },
  {
   "cell_type": "code",
   "execution_count": 103,
   "metadata": {
    "tags": []
   },
   "outputs": [
    {
     "name": "stdout",
     "output_type": "stream",
     "text": [
      "Pattern found at [12]\n"
     ]
    }
   ],
   "source": [
    "# Boyer-Moore algorithms  (KMP but in reverse)\n",
    "\n",
    "text = \"acbaacacababacacac\"\n",
    "pattern = \"acacac\"\n",
    " \n",
    " \n",
    "matched_indexes = []\n",
    " \n",
    "i=0\n",
    "flag = True\n",
    "while i<=len(text)-len(pattern):\n",
    "    for j in range(len(pattern)-1, -1, -1):     #reverse searching\n",
    "        if pattern[j] != text[i+j]:\n",
    "            flag = False    #indicates there is a mismatch\n",
    "            if j == len(pattern)-1:     #if good-suffix is not present, we test bad character \n",
    "                if text[i+j] in pattern[0:j]:\n",
    "                    i=i+j-pattern[0:j].rfind(text[i+j])   \n",
    "                    #i+j is index of bad character, this line is used for jumping pattern to match bad character of text with same character in pattern\n",
    "                else:\n",
    "                    i=i+j+1     #if bad character is not present, jump pattern next to it\n",
    "            else:\n",
    "                k=1\n",
    "                while text[i+j+k:i+len(pattern)] not in pattern[0:len(pattern)-1]:     \n",
    "                    #used for finding sub part of a good-suffix\n",
    "                    k=k+1\n",
    "                if len(text[i+j+k:i+len(pattern)]) != 1:    #good-suffix should not be of one character\n",
    "                    gsshift=i+j+k-pattern[0:len(pattern)-1].rfind(text[i+j+k:i+len(pattern)])    \n",
    "                    #jumps pattern to a position where good-suffix of pattern matches with good-suffix of text\n",
    "                else:\n",
    "                    #gsshift=i+len(pattern)\n",
    "                    gsshift=0   #when good-suffix heuristic is not applicable, \n",
    "                                #we prefer bad character heuristic\n",
    "                if text[i+j] in pattern[0:j]:\n",
    "                    bcshift=i+j-pattern[0:j].rfind(text[i+j])  \n",
    "                    #i+j is index of bad character, this line is used for jumping pattern to match bad character of text with same character in pattern\n",
    "                else:\n",
    "                    bcshift=i+j+1\n",
    "                i=max((bcshift, gsshift))\n",
    "            break\n",
    "    if flag:    #if pattern is found then normal iteration\n",
    "        matched_indexes.append(i)\n",
    "        i = i+1\n",
    "    else:   #again set flag to True so new string in text can be examined\n",
    "        flag = True\n",
    "    \n",
    "print (\"Pattern found at\", matched_indexes)"
   ]
  },
  {
   "cell_type": "code",
   "execution_count": null,
   "metadata": {},
   "outputs": [],
   "source": []
  }
 ],
 "metadata": {
  "kernelspec": {
   "display_name": "Python 3 (ipykernel)",
   "language": "python",
   "name": "python3"
  },
  "language_info": {
   "codemirror_mode": {
    "name": "ipython",
    "version": 3
   },
   "file_extension": ".py",
   "mimetype": "text/x-python",
   "name": "python",
   "nbconvert_exporter": "python",
   "pygments_lexer": "ipython3",
   "version": "3.10.11"
  }
 },
 "nbformat": 4,
 "nbformat_minor": 4
}
