{
 "cells": [
  {
   "cell_type": "markdown",
   "metadata": {},
   "source": [
    "## Data Structure Notes"
   ]
  },
  {
   "cell_type": "code",
   "execution_count": 38,
   "metadata": {},
   "outputs": [
    {
     "name": "stdout",
     "output_type": "stream",
     "text": [
      "\n",
      " Numeric\n",
      "1 <class 'int'>\n",
      "1. <class 'float'>\n",
      "1.0 <class 'float'>\n",
      "3j <class 'complex'>\n",
      "\n",
      " Boolean\n",
      "bool(1) <class 'bool'>\n",
      "bool(0) <class 'bool'>\n",
      "False <class 'bool'>\n",
      "\n",
      " Sequence\n",
      "'1' <class 'str'>\n",
      "'a' <class 'str'>\n",
      "range(3) <class 'range'>\n",
      "[1,2,3] <class 'list'>\n",
      "(1,2,3) <class 'tuple'>\n",
      "\n",
      " Mapping\n",
      "{'a':1,'b':2,'c':3} <class 'dict'>\n",
      "\n",
      " Set\n",
      "{1,2,3} <class 'set'>\n",
      "frozenset((1,2,3)) <class 'frozenset'>\n"
     ]
    }
   ],
   "source": [
    "# Data types\n",
    "\n",
    "print(\"\\n Numeric\")\n",
    "print(\"1\", type(1))\n",
    "print(\"1.\", type(1.))\n",
    "print(\"1.0\", type(1.))\n",
    "print(\"3j\", type(3j))\n",
    "\n",
    "print(\"\\n Boolean\")\n",
    "print(\"bool(1)\", type(bool(1)))\n",
    "print(\"bool(0)\", type(bool(0)))\n",
    "print(\"False\", type(False))\n",
    "\n",
    "print(\"\\n Sequence\") \n",
    "print(\"'1'\", type('1'))\n",
    "print(\"'a'\", type('a'))\n",
    "print(\"range(3)\", type(range(3)))\n",
    "print(\"[1,2,3]\", type([1,2,3]))\n",
    "print(\"(1,2,3)\", type( (1,2,3)))\n",
    "\n",
    "print(\"\\n Mapping\")\n",
    "print(\"{'a':1,'b':2,'c':3}\" , type({'a':1,'b':2,'c':3}))\n",
    "\n",
    "print(\"\\n Set\")\n",
    "print(\"{1,2,3}\", type({1,2,3}))\n",
    "print(\"frozenset((1,2,3))\", type(frozenset((1,2,3))))\n"
   ]
  },
  {
   "cell_type": "markdown",
   "metadata": {},
   "source": [
    "#### Other details\n",
    "Immutable objects:  String, Integer, Float, Range, Tuple, Unicode\n",
    "Mutable objects:  List, Dictionary, Set, "
   ]
  },
  {
   "cell_type": "markdown",
   "metadata": {},
   "source": [
    "#### Membership\n",
    "* in\n",
    "* not in\n",
    "\n",
    "#### Identity\n",
    "* is\n",
    "* is not\n",
    "\n",
    "#### Logical Operators\n",
    "* AND\n",
    "* OR\n",
    "* NOT\n",
    "\n",
    "#### Comparison Operator\n",
    "* See list online - there are many\n",
    "\n"
   ]
  },
  {
   "cell_type": "markdown",
   "metadata": {},
   "source": [
    "#### Common Dictionary Methods\n",
    "* The dictionary data type is mutable and dynamic.  \n",
    "\n",
    "mydict.clear()\n",
    "mydict.get(<key>)\n",
    "mydict.items()\n",
    "mydict.keys()\n",
    "mydict.values()\n",
    "mydict.pop()\n",
    "mydict.popitem()\n",
    "mydict.update(<obj>)"
   ]
  },
  {
   "cell_type": "markdown",
   "metadata": {},
   "source": [
    "#### Common Sets Methods\n",
    "* A set is an unordered collection of hashable objects. It is iterable, mutable, and has unique elements. The order of the elements is also not defined. While the addition and removal of items are allowed, the items themselves within the set must be immutable and hashable. Sets support membership testing operators (in, not in), and operations such as intersection, union, difference, and symmetric difference. Sets cannot contain duplicate items.  \n",
    "\n",
    "set1.union(set2)  \n",
    "set1.intersection(set2)  \n",
    "set1.difference(set2)  \n",
    "set1.symmetric_difference(set2)\n",
    "set1.issubset(set2)\n",
    "\n",
    "\n",
    "**Note:** Immutable sets are known as frozensets.  Except for this one difference, they are the same.  \n",
    "\n",
    "Here is a good example that shows how sets can only hold immutable objects.  A set of sets would not work because the individual sets are mutable, but a set of frozensets would work due to the frozensets immutabilty property.  \n"
   ]
  },
  {
   "cell_type": "code",
   "execution_count": 39,
   "metadata": {},
   "outputs": [
    {
     "ename": "TypeError",
     "evalue": "unhashable type: 'set'",
     "output_type": "error",
     "traceback": [
      "\u001b[1;31m---------------------------------------------------------------------------\u001b[0m",
      "\u001b[1;31mTypeError\u001b[0m                                 Traceback (most recent call last)",
      "Cell \u001b[1;32mIn[39], line 5\u001b[0m\n\u001b[0;32m      3\u001b[0m a21 \u001b[38;5;241m=\u001b[39m \u001b[38;5;28mset\u001b[39m([\u001b[38;5;124m'\u001b[39m\u001b[38;5;124mstructure\u001b[39m\u001b[38;5;124m'\u001b[39m])\n\u001b[0;32m      4\u001b[0m a31 \u001b[38;5;241m=\u001b[39m \u001b[38;5;28mset\u001b[39m([\u001b[38;5;124m'\u001b[39m\u001b[38;5;124mpython\u001b[39m\u001b[38;5;124m'\u001b[39m])\n\u001b[1;32m----> 5\u001b[0m x1 \u001b[38;5;241m=\u001b[39m {a11, a21, a31}\n",
      "\u001b[1;31mTypeError\u001b[0m: unhashable type: 'set'"
     ]
    }
   ],
   "source": [
    "# Using just a set\n",
    "a11 = set(['data'])\n",
    "a21 = set(['structure'])\n",
    "a31 = set(['python'])\n",
    "x1 = {a11, a21, a31}\n"
   ]
  },
  {
   "cell_type": "code",
   "execution_count": 40,
   "metadata": {},
   "outputs": [
    {
     "name": "stdout",
     "output_type": "stream",
     "text": [
      "{frozenset({'python'}), frozenset({'data'}), frozenset({'structure'})}\n"
     ]
    }
   ],
   "source": [
    "# Using a frozenset\n",
    "a1 = frozenset(['data'])\n",
    "a2 = frozenset(['structure'])\n",
    "a3 = frozenset(['python'])\n",
    "x = {a1, a2, a3}\n",
    "print(x)\n"
   ]
  },
  {
   "cell_type": "markdown",
   "metadata": {},
   "source": [
    "#### Collections\n",
    "The collections module provides different types of containers, which are objects that are used to store different objects and provide a way to access them.  \n",
    "\n",
    "Access this module via `from collections import _____`  \n",
    "\n",
    "Types:  \n",
    "namedTuple  \n",
    "deque  \n",
    "defaultdict  \n",
    "ChainMap  \n",
    "Counter  \n",
    "UserDict, UserList, UserString  "
   ]
  },
  {
   "cell_type": "markdown",
   "metadata": {},
   "source": [
    "### Algorithm Development"
   ]
  },
  {
   "cell_type": "markdown",
   "metadata": {},
   "source": [
    "Important Factors:\n",
    "- Time Complexity\n",
    "- Memory Usage"
   ]
  }
 ],
 "metadata": {
  "kernelspec": {
   "display_name": "Python [conda env:python310] *",
   "language": "python",
   "name": "conda-env-python310-py"
  },
  "language_info": {
   "codemirror_mode": {
    "name": "ipython",
    "version": 3
   },
   "file_extension": ".py",
   "mimetype": "text/x-python",
   "name": "python",
   "nbconvert_exporter": "python",
   "pygments_lexer": "ipython3",
   "version": "3.10.11"
  }
 },
 "nbformat": 4,
 "nbformat_minor": 4
}
