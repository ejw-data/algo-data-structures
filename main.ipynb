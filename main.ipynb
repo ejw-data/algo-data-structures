{
 "cells": [
  {
   "cell_type": "markdown",
   "metadata": {},
   "source": [
    "## Data Structure Notes"
   ]
  },
  {
   "cell_type": "code",
   "execution_count": 38,
   "metadata": {},
   "outputs": [
    {
     "name": "stdout",
     "output_type": "stream",
     "text": [
      "\n",
      " Numeric\n",
      "1 <class 'int'>\n",
      "1. <class 'float'>\n",
      "1.0 <class 'float'>\n",
      "3j <class 'complex'>\n",
      "\n",
      " Boolean\n",
      "bool(1) <class 'bool'>\n",
      "bool(0) <class 'bool'>\n",
      "False <class 'bool'>\n",
      "\n",
      " Sequence\n",
      "'1' <class 'str'>\n",
      "'a' <class 'str'>\n",
      "range(3) <class 'range'>\n",
      "[1,2,3] <class 'list'>\n",
      "(1,2,3) <class 'tuple'>\n",
      "\n",
      " Mapping\n",
      "{'a':1,'b':2,'c':3} <class 'dict'>\n",
      "\n",
      " Set\n",
      "{1,2,3} <class 'set'>\n",
      "frozenset((1,2,3)) <class 'frozenset'>\n"
     ]
    }
   ],
   "source": [
    "# Data types\n",
    "\n",
    "print(\"\\n Numeric\")\n",
    "print(\"1\", type(1))\n",
    "print(\"1.\", type(1.))\n",
    "print(\"1.0\", type(1.))\n",
    "print(\"3j\", type(3j))\n",
    "\n",
    "print(\"\\n Boolean\")\n",
    "print(\"bool(1)\", type(bool(1)))\n",
    "print(\"bool(0)\", type(bool(0)))\n",
    "print(\"False\", type(False))\n",
    "\n",
    "print(\"\\n Sequence\") \n",
    "print(\"'1'\", type('1'))\n",
    "print(\"'a'\", type('a'))\n",
    "print(\"range(3)\", type(range(3)))\n",
    "print(\"[1,2,3]\", type([1,2,3]))\n",
    "print(\"(1,2,3)\", type( (1,2,3)))\n",
    "\n",
    "print(\"\\n Mapping\")\n",
    "print(\"{'a':1,'b':2,'c':3}\" , type({'a':1,'b':2,'c':3}))\n",
    "\n",
    "print(\"\\n Set\")\n",
    "print(\"{1,2,3}\", type({1,2,3}))\n",
    "print(\"frozenset((1,2,3))\", type(frozenset((1,2,3))))\n"
   ]
  },
  {
   "cell_type": "markdown",
   "metadata": {},
   "source": [
    "#### Other details\n",
    "Immutable objects:  String, Integer, Float, Range, Tuple, Unicode\n",
    "Mutable objects:  List, Dictionary, Set, "
   ]
  },
  {
   "cell_type": "markdown",
   "metadata": {},
   "source": [
    "#### Membership\n",
    "* in\n",
    "* not in\n",
    "\n",
    "#### Identity\n",
    "* is\n",
    "* is not\n",
    "\n",
    "#### Logical Operators\n",
    "* AND\n",
    "* OR\n",
    "* NOT\n",
    "\n",
    "#### Comparison Operator\n",
    "* See list online - there are many\n",
    "\n"
   ]
  },
  {
   "cell_type": "markdown",
   "metadata": {},
   "source": [
    "#### Common Dictionary Methods\n",
    "* The dictionary data type is mutable and dynamic.  \n",
    "\n",
    "mydict.clear()\n",
    "mydict.get(<key>)\n",
    "mydict.items()\n",
    "mydict.keys()\n",
    "mydict.values()\n",
    "mydict.pop()\n",
    "mydict.popitem()\n",
    "mydict.update(<obj>)"
   ]
  },
  {
   "cell_type": "markdown",
   "metadata": {},
   "source": [
    "#### Common Sets Methods\n",
    "* A set is an unordered collection of hashable objects. It is iterable, mutable, and has unique elements. The order of the elements is also not defined. While the addition and removal of items are allowed, the items themselves within the set must be immutable and hashable. Sets support membership testing operators (in, not in), and operations such as intersection, union, difference, and symmetric difference. Sets cannot contain duplicate items.  \n",
    "\n",
    "set1.union(set2)  \n",
    "set1.intersection(set2)  \n",
    "set1.difference(set2)  \n",
    "set1.symmetric_difference(set2)\n",
    "set1.issubset(set2)\n",
    "\n",
    "\n",
    "**Note:** Immutable sets are known as frozensets.  Except for this one difference, they are the same.  \n",
    "\n",
    "Here is a good example that shows how sets can only hold immutable objects.  A set of sets would not work because the individual sets are mutable, but a set of frozensets would work due to the frozensets immutabilty property.  \n"
   ]
  },
  {
   "cell_type": "code",
   "execution_count": 39,
   "metadata": {},
   "outputs": [
    {
     "ename": "TypeError",
     "evalue": "unhashable type: 'set'",
     "output_type": "error",
     "traceback": [
      "\u001b[1;31m---------------------------------------------------------------------------\u001b[0m",
      "\u001b[1;31mTypeError\u001b[0m                                 Traceback (most recent call last)",
      "Cell \u001b[1;32mIn[39], line 5\u001b[0m\n\u001b[0;32m      3\u001b[0m a21 \u001b[38;5;241m=\u001b[39m \u001b[38;5;28mset\u001b[39m([\u001b[38;5;124m'\u001b[39m\u001b[38;5;124mstructure\u001b[39m\u001b[38;5;124m'\u001b[39m])\n\u001b[0;32m      4\u001b[0m a31 \u001b[38;5;241m=\u001b[39m \u001b[38;5;28mset\u001b[39m([\u001b[38;5;124m'\u001b[39m\u001b[38;5;124mpython\u001b[39m\u001b[38;5;124m'\u001b[39m])\n\u001b[1;32m----> 5\u001b[0m x1 \u001b[38;5;241m=\u001b[39m {a11, a21, a31}\n",
      "\u001b[1;31mTypeError\u001b[0m: unhashable type: 'set'"
     ]
    }
   ],
   "source": [
    "# Using just a set\n",
    "a11 = set(['data'])\n",
    "a21 = set(['structure'])\n",
    "a31 = set(['python'])\n",
    "x1 = {a11, a21, a31}\n"
   ]
  },
  {
   "cell_type": "code",
   "execution_count": 40,
   "metadata": {},
   "outputs": [
    {
     "name": "stdout",
     "output_type": "stream",
     "text": [
      "{frozenset({'python'}), frozenset({'data'}), frozenset({'structure'})}\n"
     ]
    }
   ],
   "source": [
    "# Using a frozenset\n",
    "a1 = frozenset(['data'])\n",
    "a2 = frozenset(['structure'])\n",
    "a3 = frozenset(['python'])\n",
    "x = {a1, a2, a3}\n",
    "print(x)\n"
   ]
  },
  {
   "cell_type": "markdown",
   "metadata": {},
   "source": [
    "#### Collections\n",
    "The collections module provides different types of containers, which are objects that are used to store different objects and provide a way to access them.  \n",
    "\n",
    "Access this module via `from collections import _____`  \n",
    "\n",
    "Types:  \n",
    "namedTuple  \n",
    "deque  \n",
    "defaultdict  \n",
    "ChainMap  \n",
    "Counter  \n",
    "UserDict, UserList, UserString  "
   ]
  },
  {
   "cell_type": "markdown",
   "metadata": {},
   "source": [
    "### Algorithm Development"
   ]
  },
  {
   "cell_type": "markdown",
   "metadata": {},
   "source": [
    "Important Factors:\n",
    "- Time Complexity\n",
    "- Space Complexity (Memory Usage)\n",
    "- Asymptotically Efficiency (Rate of Growth)\n",
    "- Amortized Analysis\n",
    "\n",
    "Types of Notation:\n",
    "- $theta - worst-case running time complexity with a tight bound.\n",
    "- O - worst-case running time complexity with an upper bound\n",
    "- $omega - lower bound of an algorithm’s running time  \n",
    "\n",
    "Use Big O Notations:\n",
    "- 0(1) : Constant\n",
    "- O(logn)  :  Logarithmic\n",
    "- O(n)   :  Linear\n",
    "- (nlogn)   :  Linear-logarithmic\n",
    "- O(n^2)   :  Quadriatic\n",
    "- O(n^3)   :  Cubic\n",
    "- O(2n)    :  Exponential\n",
    "\n",
    "Total Time Complexity\n",
    "- Simplified notation\n"
   ]
  },
  {
   "cell_type": "markdown",
   "metadata": {},
   "source": [
    "### Algorithms  \n",
    "- Brute-force - try all possible solutions"
   ]
  },
  {
   "cell_type": "markdown",
   "metadata": {},
   "source": [
    "#### Recursion\n",
    "- Search for condition to be true then stops but for each loop it modifies the previous result and calls itself\n"
   ]
  },
  {
   "cell_type": "code",
   "execution_count": 39,
   "metadata": {},
   "outputs": [
    {
     "name": "stdout",
     "output_type": "stream",
     "text": [
      "24\n"
     ]
    }
   ],
   "source": [
    "# Not Recursive - Factorial\n",
    "\n",
    "def fact(n, tot=1):\n",
    "    if n == 0:\n",
    "        return tot\n",
    "    else:\n",
    "        tot *= n\n",
    "        return fact(n-1, tot)\n",
    "    \n",
    "print(fact(4))"
   ]
  },
  {
   "cell_type": "code",
   "execution_count": 40,
   "metadata": {},
   "outputs": [
    {
     "name": "stdout",
     "output_type": "stream",
     "text": [
      "24\n"
     ]
    }
   ],
   "source": [
    "# Recursive - Factorial\n",
    "\n",
    "def fact(n):\n",
    "    if n == 0:\n",
    "        return 1\n",
    "    else:\n",
    "        return n*fact(n-1)\n",
    "    \n",
    "print(fact(4))"
   ]
  },
  {
   "cell_type": "markdown",
   "metadata": {},
   "source": [
    "#### Divide and conquer"
   ]
  },
  {
   "cell_type": "code",
   "execution_count": 38,
   "metadata": {},
   "outputs": [],
   "source": [
    "# - binary search - 0(logn)\n",
    "\n",
    "def binary_search(arr, start, end, key):\n",
    "    loop = 0\n",
    "    while start <= end: \n",
    "        loop += 1\n",
    "        mid = start + int((end - start)/2)\n",
    "        if arr[mid] == key:  \n",
    "            return (mid, loop)  \n",
    "        elif arr[mid] < key:  \n",
    "            start = mid + 1  \n",
    "        else:  \n",
    "            end = mid - 1  \n",
    "    return (None,loop)  \n",
    "\n",
    "arr = [4, 6, 9, 13, 14, 18, 21, 24, 38] \n",
    "x = 6\n",
    "result = binary_search(arr, 0, len(arr)-1, x)  \n",
    "print(f'Binary Search: Index of {x}: {result[0]}.  Evaluated in {result[1]} loops')"
   ]
  },
  {
   "cell_type": "code",
   "execution_count": 38,
   "metadata": {},
   "outputs": [],
   "source": [
    "# - merge sort - O(nlogn)\n",
    "\n",
    "# merge\n",
    "def merge(first_sublist, second_sublist): \n",
    "    i = j = 0\n",
    "    merged_list = []\n",
    "    while i < len(first_sublist) and j < len(second_sublist):\n",
    "        if first_sublist[i] < second_sublist[j]:\n",
    "            merged_list.append(first_sublist[i]) \n",
    "            i += 1 \n",
    "        else:\n",
    "            merged_list.append(second_sublist[j]) \n",
    "            j += 1\n",
    "    while i < len(first_sublist): \n",
    "        merged_list.append(first_sublist[i]) \n",
    "        i += 1 \n",
    "    while j < len(second_sublist):\n",
    "        merged_list.append(second_sublist[j]) \n",
    "        j += 1\n",
    "    return merged_list \n",
    "\n",
    "# merge sort\n",
    "def merge_sort(unsorted_list): \n",
    "    \n",
    "    # stop trigger\n",
    "    if len(unsorted_list) == 1: \n",
    "        return unsorted_list\n",
    "    \n",
    "    # split list\n",
    "    mid_point = int(len(unsorted_list)/2)\n",
    "    first_half = unsorted_list[:mid_point] \n",
    "    second_half = unsorted_list[mid_point:] \n",
    "    \n",
    "    # recursive function\n",
    "    half_a = merge_sort(first_half) \n",
    "    half_b = merge_sort(second_half) \n",
    "    \n",
    "    # takes smallest value (most to left)\n",
    "    return merge(half_a, half_b) \n",
    "\n",
    "print(\"Merge Sort of List: \", merge_sort([10,9,3,5,2,1]))"
   ]
  },
  {
   "cell_type": "markdown",
   "metadata": {},
   "source": [
    "#### Other Algorithms\n",
    "- quick sort\n",
    "- algo for fast multiplication\n",
    "- strassen's matrix multiplication\n",
    "- closes pair of points"
   ]
  },
  {
   "cell_type": "code",
   "execution_count": null,
   "metadata": {},
   "outputs": [],
   "source": [
    "# Dynamic programming\n"
   ]
  },
  {
   "cell_type": "code",
   "execution_count": null,
   "metadata": {},
   "outputs": [],
   "source": [
    "# Greedy algorithms\n"
   ]
  },
  {
   "cell_type": "code",
   "execution_count": 29,
   "metadata": {},
   "outputs": [
    {
     "data": {
      "text/plain": [
       "[1, 2, 3, 5, 9, 10]"
      ]
     },
     "execution_count": 29,
     "metadata": {},
     "output_type": "execute_result"
    }
   ],
   "source": []
  },
  {
   "cell_type": "code",
   "execution_count": null,
   "metadata": {},
   "outputs": [],
   "source": []
  }
 ],
 "metadata": {
  "kernelspec": {
   "display_name": "Python [conda env:python310] *",
   "language": "python",
   "name": "conda-env-python310-py"
  },
  "language_info": {
   "codemirror_mode": {
    "name": "ipython",
    "version": 3
   },
   "file_extension": ".py",
   "mimetype": "text/x-python",
   "name": "python",
   "nbconvert_exporter": "python",
   "pygments_lexer": "ipython3",
   "version": "3.10.11"
  }
 },
 "nbformat": 4,
 "nbformat_minor": 4
}
